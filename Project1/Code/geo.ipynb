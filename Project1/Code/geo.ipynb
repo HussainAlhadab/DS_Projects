{
 "cells": [
  {
   "cell_type": "code",
   "execution_count": 1,
   "id": "09648971",
   "metadata": {},
   "outputs": [],
   "source": [
    "import pandas as pd\n",
    "import geopandas\n",
    "from shapely.geometry import Point\n",
    "from shapely.ops import nearest_points\n",
    "from math import *\n",
    "import seaborn as sns\n",
    "import matplotlib.pyplot as plt"
   ]
  },
  {
   "cell_type": "code",
   "execution_count": 2,
   "id": "93a18908",
   "metadata": {},
   "outputs": [],
   "source": [
    "stations = geopandas.read_file('geo/geo_export_d1cef8bd-bb80-491b-983e-fc4b3e3aab4f.shp')"
   ]
  },
  {
   "cell_type": "code",
   "execution_count": 3,
   "id": "ecaaa7bd",
   "metadata": {},
   "outputs": [
    {
     "data": {
      "text/html": [
       "<div>\n",
       "<style scoped>\n",
       "    .dataframe tbody tr th:only-of-type {\n",
       "        vertical-align: middle;\n",
       "    }\n",
       "\n",
       "    .dataframe tbody tr th {\n",
       "        vertical-align: top;\n",
       "    }\n",
       "\n",
       "    .dataframe thead th {\n",
       "        text-align: right;\n",
       "    }\n",
       "</style>\n",
       "<table border=\"1\" class=\"dataframe\">\n",
       "  <thead>\n",
       "    <tr style=\"text-align: right;\">\n",
       "      <th></th>\n",
       "      <th>line</th>\n",
       "      <th>name</th>\n",
       "      <th>notes</th>\n",
       "      <th>objectid</th>\n",
       "      <th>url</th>\n",
       "      <th>geometry</th>\n",
       "    </tr>\n",
       "  </thead>\n",
       "  <tbody>\n",
       "    <tr>\n",
       "      <th>0</th>\n",
       "      <td>4-6-6 Express</td>\n",
       "      <td>Astor Pl</td>\n",
       "      <td>4 nights, 6-all times, 6 Express-weekdays AM s...</td>\n",
       "      <td>1.0</td>\n",
       "      <td>http://web.mta.info/nyct/service/</td>\n",
       "      <td>POINT (-73.99107 40.73005)</td>\n",
       "    </tr>\n",
       "    <tr>\n",
       "      <th>1</th>\n",
       "      <td>4-6-6 Express</td>\n",
       "      <td>Canal St</td>\n",
       "      <td>4 nights, 6-all times, 6 Express-weekdays AM s...</td>\n",
       "      <td>2.0</td>\n",
       "      <td>http://web.mta.info/nyct/service/</td>\n",
       "      <td>POINT (-74.00019 40.71880)</td>\n",
       "    </tr>\n",
       "    <tr>\n",
       "      <th>2</th>\n",
       "      <td>1-2</td>\n",
       "      <td>50th St</td>\n",
       "      <td>1-all times, 2-nights</td>\n",
       "      <td>3.0</td>\n",
       "      <td>http://web.mta.info/nyct/service/</td>\n",
       "      <td>POINT (-73.98385 40.76173)</td>\n",
       "    </tr>\n",
       "    <tr>\n",
       "      <th>3</th>\n",
       "      <td>2-3-4</td>\n",
       "      <td>Bergen St</td>\n",
       "      <td>4-nights, 3-all other times, 2-all times</td>\n",
       "      <td>4.0</td>\n",
       "      <td>http://web.mta.info/nyct/service/</td>\n",
       "      <td>POINT (-73.97500 40.68086)</td>\n",
       "    </tr>\n",
       "    <tr>\n",
       "      <th>4</th>\n",
       "      <td>3-4</td>\n",
       "      <td>Pennsylvania Ave</td>\n",
       "      <td>4-nights, 3-all other times</td>\n",
       "      <td>5.0</td>\n",
       "      <td>http://web.mta.info/nyct/service/</td>\n",
       "      <td>POINT (-73.89489 40.66471)</td>\n",
       "    </tr>\n",
       "  </tbody>\n",
       "</table>\n",
       "</div>"
      ],
      "text/plain": [
       "            line              name  \\\n",
       "0  4-6-6 Express          Astor Pl   \n",
       "1  4-6-6 Express          Canal St   \n",
       "2            1-2           50th St   \n",
       "3          2-3-4         Bergen St   \n",
       "4            3-4  Pennsylvania Ave   \n",
       "\n",
       "                                               notes  objectid  \\\n",
       "0  4 nights, 6-all times, 6 Express-weekdays AM s...       1.0   \n",
       "1  4 nights, 6-all times, 6 Express-weekdays AM s...       2.0   \n",
       "2                              1-all times, 2-nights       3.0   \n",
       "3           4-nights, 3-all other times, 2-all times       4.0   \n",
       "4                        4-nights, 3-all other times       5.0   \n",
       "\n",
       "                                 url                    geometry  \n",
       "0  http://web.mta.info/nyct/service/  POINT (-73.99107 40.73005)  \n",
       "1  http://web.mta.info/nyct/service/  POINT (-74.00019 40.71880)  \n",
       "2  http://web.mta.info/nyct/service/  POINT (-73.98385 40.76173)  \n",
       "3  http://web.mta.info/nyct/service/  POINT (-73.97500 40.68086)  \n",
       "4  http://web.mta.info/nyct/service/  POINT (-73.89489 40.66471)  "
      ]
     },
     "execution_count": 3,
     "metadata": {},
     "output_type": "execute_result"
    }
   ],
   "source": [
    "stations.head()"
   ]
  },
  {
   "cell_type": "code",
   "execution_count": 4,
   "id": "d3b68b27",
   "metadata": {
    "scrolled": true
   },
   "outputs": [
    {
     "data": {
      "text/plain": [
       "Index(['line', 'name', 'notes', 'objectid', 'url', 'geometry'], dtype='object')"
      ]
     },
     "execution_count": 4,
     "metadata": {},
     "output_type": "execute_result"
    }
   ],
   "source": [
    "stations.columns"
   ]
  },
  {
   "cell_type": "code",
   "execution_count": 5,
   "id": "ed5c7df9",
   "metadata": {},
   "outputs": [
    {
     "name": "stdout",
     "output_type": "stream",
     "text": [
      "<class 'geopandas.geodataframe.GeoDataFrame'>\n",
      "RangeIndex: 473 entries, 0 to 472\n",
      "Data columns (total 6 columns):\n",
      " #   Column    Non-Null Count  Dtype   \n",
      "---  ------    --------------  -----   \n",
      " 0   line      473 non-null    object  \n",
      " 1   name      473 non-null    object  \n",
      " 2   notes     473 non-null    object  \n",
      " 3   objectid  473 non-null    float64 \n",
      " 4   url       473 non-null    object  \n",
      " 5   geometry  473 non-null    geometry\n",
      "dtypes: float64(1), geometry(1), object(4)\n",
      "memory usage: 22.3+ KB\n"
     ]
    }
   ],
   "source": [
    "stations.info()"
   ]
  },
  {
   "cell_type": "code",
   "execution_count": 6,
   "id": "53f0d913",
   "metadata": {},
   "outputs": [],
   "source": [
    "fare_arrests = pd.read_csv('Fare Evasion Arrests.csv')"
   ]
  },
  {
   "cell_type": "code",
   "execution_count": 7,
   "id": "e2dc7e8a",
   "metadata": {
    "scrolled": true
   },
   "outputs": [
    {
     "data": {
      "text/plain": [
       "Index(['ARREST_KEY', 'ARREST_DATE', 'PD_CD', 'PD_DESC', 'KY_CD', 'OFNS_DESC',\n",
       "       'LAW_CODE', 'LAW_CAT_CD', 'ARREST_BORO', 'ARREST_PRECINCT',\n",
       "       'JURISDICTION_CODE', 'AGE_GROUP', 'PERP_SEX', 'PERP_RACE', 'X_COORD_CD',\n",
       "       'Y_COORD_CD', 'Latitude', 'Longitude', 'Lon_Lat'],\n",
       "      dtype='object')"
      ]
     },
     "execution_count": 7,
     "metadata": {},
     "output_type": "execute_result"
    }
   ],
   "source": [
    "fare_arrests.columns"
   ]
  },
  {
   "cell_type": "code",
   "execution_count": 8,
   "id": "9ac16c10",
   "metadata": {},
   "outputs": [
    {
     "name": "stdout",
     "output_type": "stream",
     "text": [
      "<class 'pandas.core.frame.DataFrame'>\n",
      "RangeIndex: 296473 entries, 0 to 296472\n",
      "Data columns (total 19 columns):\n",
      " #   Column             Non-Null Count   Dtype  \n",
      "---  ------             --------------   -----  \n",
      " 0   ARREST_KEY         296473 non-null  int64  \n",
      " 1   ARREST_DATE        296473 non-null  object \n",
      " 2   PD_CD              296473 non-null  float64\n",
      " 3   PD_DESC            296473 non-null  object \n",
      " 4   KY_CD              296473 non-null  float64\n",
      " 5   OFNS_DESC          296473 non-null  object \n",
      " 6   LAW_CODE           296473 non-null  object \n",
      " 7   LAW_CAT_CD         296473 non-null  object \n",
      " 8   ARREST_BORO        296473 non-null  object \n",
      " 9   ARREST_PRECINCT    296473 non-null  int64  \n",
      " 10  JURISDICTION_CODE  296473 non-null  float64\n",
      " 11  AGE_GROUP          296473 non-null  object \n",
      " 12  PERP_SEX           296473 non-null  object \n",
      " 13  PERP_RACE          296473 non-null  object \n",
      " 14  X_COORD_CD         296473 non-null  float64\n",
      " 15  Y_COORD_CD         296473 non-null  float64\n",
      " 16  Latitude           296473 non-null  float64\n",
      " 17  Longitude          296473 non-null  float64\n",
      " 18  Lon_Lat            296473 non-null  object \n",
      "dtypes: float64(7), int64(2), object(10)\n",
      "memory usage: 43.0+ MB\n"
     ]
    }
   ],
   "source": [
    "fare_arrests.info()"
   ]
  },
  {
   "cell_type": "code",
   "execution_count": 9,
   "id": "38077f5d",
   "metadata": {
    "scrolled": true
   },
   "outputs": [
    {
     "data": {
      "text/plain": [
       "0"
      ]
     },
     "execution_count": 9,
     "metadata": {},
     "output_type": "execute_result"
    }
   ],
   "source": [
    "len(fare_arrests.dropna())- len(fare_arrests)"
   ]
  },
  {
   "cell_type": "code",
   "execution_count": 10,
   "id": "e19170a7",
   "metadata": {},
   "outputs": [],
   "source": [
    "arrests_gdf = geopandas.GeoDataFrame(\n",
    "    fare_arrests[[\n",
    "        'ARREST_KEY', 'ARREST_DATE', 'ARREST_BORO', 'ARREST_PRECINCT',\n",
    "        'JURISDICTION_CODE', 'AGE_GROUP', 'PERP_SEX', 'PERP_RACE', 'Latitude',\n",
    "        'Longitude'\n",
    "    ]],\n",
    "    geometry=[\n",
    "        Point(x, y)\n",
    "        for x, y in zip(fare_arrests.Longitude, fare_arrests.Latitude)\n",
    "    ])"
   ]
  },
  {
   "cell_type": "code",
   "execution_count": 11,
   "id": "2ebed24c",
   "metadata": {},
   "outputs": [
    {
     "data": {
      "text/html": [
       "<div>\n",
       "<style scoped>\n",
       "    .dataframe tbody tr th:only-of-type {\n",
       "        vertical-align: middle;\n",
       "    }\n",
       "\n",
       "    .dataframe tbody tr th {\n",
       "        vertical-align: top;\n",
       "    }\n",
       "\n",
       "    .dataframe thead th {\n",
       "        text-align: right;\n",
       "    }\n",
       "</style>\n",
       "<table border=\"1\" class=\"dataframe\">\n",
       "  <thead>\n",
       "    <tr style=\"text-align: right;\">\n",
       "      <th></th>\n",
       "      <th>ARREST_KEY</th>\n",
       "      <th>ARREST_DATE</th>\n",
       "      <th>ARREST_BORO</th>\n",
       "      <th>ARREST_PRECINCT</th>\n",
       "      <th>JURISDICTION_CODE</th>\n",
       "      <th>AGE_GROUP</th>\n",
       "      <th>PERP_SEX</th>\n",
       "      <th>PERP_RACE</th>\n",
       "      <th>Latitude</th>\n",
       "      <th>Longitude</th>\n",
       "      <th>geometry</th>\n",
       "    </tr>\n",
       "  </thead>\n",
       "  <tbody>\n",
       "    <tr>\n",
       "      <th>0</th>\n",
       "      <td>24079639</td>\n",
       "      <td>08/30/2006</td>\n",
       "      <td>K</td>\n",
       "      <td>84</td>\n",
       "      <td>1.0</td>\n",
       "      <td>18-24</td>\n",
       "      <td>M</td>\n",
       "      <td>BLACK</td>\n",
       "      <td>40.691465</td>\n",
       "      <td>-73.987348</td>\n",
       "      <td>POINT (-73.98735 40.69146)</td>\n",
       "    </tr>\n",
       "    <tr>\n",
       "      <th>1</th>\n",
       "      <td>194556724</td>\n",
       "      <td>03/11/2019</td>\n",
       "      <td>K</td>\n",
       "      <td>73</td>\n",
       "      <td>1.0</td>\n",
       "      <td>25-44</td>\n",
       "      <td>M</td>\n",
       "      <td>BLACK</td>\n",
       "      <td>40.662563</td>\n",
       "      <td>-73.908921</td>\n",
       "      <td>POINT (-73.90892 40.66256)</td>\n",
       "    </tr>\n",
       "    <tr>\n",
       "      <th>2</th>\n",
       "      <td>193088154</td>\n",
       "      <td>02/02/2019</td>\n",
       "      <td>B</td>\n",
       "      <td>49</td>\n",
       "      <td>0.0</td>\n",
       "      <td>25-44</td>\n",
       "      <td>F</td>\n",
       "      <td>WHITE</td>\n",
       "      <td>40.848833</td>\n",
       "      <td>-73.845047</td>\n",
       "      <td>POINT (-73.84505 40.84883)</td>\n",
       "    </tr>\n",
       "    <tr>\n",
       "      <th>3</th>\n",
       "      <td>193173213</td>\n",
       "      <td>02/05/2019</td>\n",
       "      <td>K</td>\n",
       "      <td>78</td>\n",
       "      <td>1.0</td>\n",
       "      <td>25-44</td>\n",
       "      <td>M</td>\n",
       "      <td>WHITE HISPANIC</td>\n",
       "      <td>40.684061</td>\n",
       "      <td>-73.977459</td>\n",
       "      <td>POINT (-73.97746 40.68406)</td>\n",
       "    </tr>\n",
       "    <tr>\n",
       "      <th>4</th>\n",
       "      <td>192365846</td>\n",
       "      <td>01/16/2019</td>\n",
       "      <td>B</td>\n",
       "      <td>44</td>\n",
       "      <td>0.0</td>\n",
       "      <td>45-64</td>\n",
       "      <td>M</td>\n",
       "      <td>BLACK</td>\n",
       "      <td>40.827820</td>\n",
       "      <td>-73.925931</td>\n",
       "      <td>POINT (-73.92593 40.82782)</td>\n",
       "    </tr>\n",
       "  </tbody>\n",
       "</table>\n",
       "</div>"
      ],
      "text/plain": [
       "   ARREST_KEY ARREST_DATE ARREST_BORO  ARREST_PRECINCT  JURISDICTION_CODE  \\\n",
       "0    24079639  08/30/2006           K               84                1.0   \n",
       "1   194556724  03/11/2019           K               73                1.0   \n",
       "2   193088154  02/02/2019           B               49                0.0   \n",
       "3   193173213  02/05/2019           K               78                1.0   \n",
       "4   192365846  01/16/2019           B               44                0.0   \n",
       "\n",
       "  AGE_GROUP PERP_SEX       PERP_RACE   Latitude  Longitude  \\\n",
       "0     18-24        M           BLACK  40.691465 -73.987348   \n",
       "1     25-44        M           BLACK  40.662563 -73.908921   \n",
       "2     25-44        F           WHITE  40.848833 -73.845047   \n",
       "3     25-44        M  WHITE HISPANIC  40.684061 -73.977459   \n",
       "4     45-64        M           BLACK  40.827820 -73.925931   \n",
       "\n",
       "                     geometry  \n",
       "0  POINT (-73.98735 40.69146)  \n",
       "1  POINT (-73.90892 40.66256)  \n",
       "2  POINT (-73.84505 40.84883)  \n",
       "3  POINT (-73.97746 40.68406)  \n",
       "4  POINT (-73.92593 40.82782)  "
      ]
     },
     "execution_count": 11,
     "metadata": {},
     "output_type": "execute_result"
    }
   ],
   "source": [
    "arrests_gdf.head()"
   ]
  },
  {
   "cell_type": "code",
   "execution_count": 12,
   "id": "6abf8e75",
   "metadata": {},
   "outputs": [
    {
     "name": "stdout",
     "output_type": "stream",
     "text": [
      "<class 'geopandas.geodataframe.GeoDataFrame'>\n",
      "RangeIndex: 296473 entries, 0 to 296472\n",
      "Data columns (total 11 columns):\n",
      " #   Column             Non-Null Count   Dtype   \n",
      "---  ------             --------------   -----   \n",
      " 0   ARREST_KEY         296473 non-null  int64   \n",
      " 1   ARREST_DATE        296473 non-null  object  \n",
      " 2   ARREST_BORO        296473 non-null  object  \n",
      " 3   ARREST_PRECINCT    296473 non-null  int64   \n",
      " 4   JURISDICTION_CODE  296473 non-null  float64 \n",
      " 5   AGE_GROUP          296473 non-null  object  \n",
      " 6   PERP_SEX           296473 non-null  object  \n",
      " 7   PERP_RACE          296473 non-null  object  \n",
      " 8   Latitude           296473 non-null  float64 \n",
      " 9   Longitude          296473 non-null  float64 \n",
      " 10  geometry           296473 non-null  geometry\n",
      "dtypes: float64(3), geometry(1), int64(2), object(5)\n",
      "memory usage: 24.9+ MB\n"
     ]
    }
   ],
   "source": [
    "arrests_gdf.info()"
   ]
  },
  {
   "cell_type": "code",
   "execution_count": 13,
   "id": "94c6937c",
   "metadata": {},
   "outputs": [],
   "source": [
    "unary = stations.geometry.unary_union"
   ]
  },
  {
   "cell_type": "code",
   "execution_count": 14,
   "id": "02d6d8a9",
   "metadata": {},
   "outputs": [
    {
     "data": {
      "image/svg+xml": [
       "<svg xmlns=\"http://www.w3.org/2000/svg\" xmlns:xlink=\"http://www.w3.org/1999/xlink\" width=\"100.0\" height=\"100.0\" viewBox=\"-74.04395964815515 40.56295017080614 0.3016382962053399 0.35325847703261104\" preserveAspectRatio=\"xMinYMin meet\"><g transform=\"matrix(1,0,0,-1,0,81.47915881864489)\"><g><circle cx=\"-74.03087600085765\" cy=\"40.61662166725951\" r=\"0.01059775431097833\" stroke=\"#555555\" stroke-width=\"0.0035325847703261103\" fill=\"#66cc99\" opacity=\"0.6\" /><circle cx=\"-74.0283979999864\" cy=\"40.62268666715025\" r=\"0.01059775431097833\" stroke=\"#555555\" stroke-width=\"0.0035325847703261103\" fill=\"#66cc99\" opacity=\"0.6\" /><circle cx=\"-74.0255099996266\" cy=\"40.629741666886915\" r=\"0.01059775431097833\" stroke=\"#555555\" stroke-width=\"0.0035325847703261103\" fill=\"#66cc99\" opacity=\"0.6\" /><circle cx=\"-74.02337699950728\" cy=\"40.63496666682377\" r=\"0.01059775431097833\" stroke=\"#555555\" stroke-width=\"0.0035325847703261103\" fill=\"#66cc99\" opacity=\"0.6\" /><circle cx=\"-74.01788099953987\" cy=\"40.6413616662838\" r=\"0.01059775431097833\" stroke=\"#555555\" stroke-width=\"0.0035325847703261103\" fill=\"#66cc99\" opacity=\"0.6\" /><circle cx=\"-74.01403399986317\" cy=\"40.64506866735981\" r=\"0.01059775431097833\" stroke=\"#555555\" stroke-width=\"0.0035325847703261103\" fill=\"#66cc99\" opacity=\"0.6\" /><circle cx=\"-74.01400799803432\" cy=\"40.70491399928076\" r=\"0.01059775431097833\" stroke=\"#555555\" stroke-width=\"0.0035325847703261103\" fill=\"#66cc99\" opacity=\"0.6\" /><circle cx=\"-74.01378300119742\" cy=\"40.707512999521775\" r=\"0.01059775431097833\" stroke=\"#555555\" stroke-width=\"0.0035325847703261103\" fill=\"#66cc99\" opacity=\"0.6\" /><circle cx=\"-74.01316895919258\" cy=\"40.701730507574474\" r=\"0.01059775431097833\" stroke=\"#555555\" stroke-width=\"0.0035325847703261103\" fill=\"#66cc99\" opacity=\"0.6\" /><circle cx=\"-74.0130072374272\" cy=\"40.703142373599135\" r=\"0.01059775431097833\" stroke=\"#555555\" stroke-width=\"0.0035325847703261103\" fill=\"#66cc99\" opacity=\"0.6\" /><circle cx=\"-74.01297456253795\" cy=\"40.707744756294474\" r=\"0.01059775431097833\" stroke=\"#555555\" stroke-width=\"0.0035325847703261103\" fill=\"#66cc99\" opacity=\"0.6\" /><circle cx=\"-74.01218800112292\" cy=\"40.7118350008202\" r=\"0.01059775431097833\" stroke=\"#555555\" stroke-width=\"0.0035325847703261103\" fill=\"#66cc99\" opacity=\"0.6\" /><circle cx=\"-74.01186199860112\" cy=\"40.70755700086603\" r=\"0.01059775431097833\" stroke=\"#555555\" stroke-width=\"0.0035325847703261103\" fill=\"#66cc99\" opacity=\"0.6\" /><circle cx=\"-74.01151599772157\" cy=\"40.634970999647166\" r=\"0.01059775431097833\" stroke=\"#555555\" stroke-width=\"0.0035325847703261103\" fill=\"#66cc99\" opacity=\"0.6\" /><circle cx=\"-74.01113196473266\" cy=\"40.7105129841524\" r=\"0.01059775431097833\" stroke=\"#555555\" stroke-width=\"0.0035325847703261103\" fill=\"#66cc99\" opacity=\"0.6\" /><circle cx=\"-74.01105599991755\" cy=\"40.706476001106005\" r=\"0.01059775431097833\" stroke=\"#555555\" stroke-width=\"0.0035325847703261103\" fill=\"#66cc99\" opacity=\"0.6\" /><circle cx=\"-74.01000600074939\" cy=\"40.648938666612814\" r=\"0.01059775431097833\" stroke=\"#555555\" stroke-width=\"0.0035325847703261103\" fill=\"#66cc99\" opacity=\"0.6\" /><circle cx=\"-74.00974461517701\" cy=\"40.71256392680817\" r=\"0.01059775431097833\" stroke=\"#555555\" stroke-width=\"0.0035325847703261103\" fill=\"#66cc99\" opacity=\"0.6\" /><circle cx=\"-74.00950899856461\" cy=\"40.710367998822136\" r=\"0.01059775431097833\" stroke=\"#555555\" stroke-width=\"0.0035325847703261103\" fill=\"#66cc99\" opacity=\"0.6\" /><circle cx=\"-74.00926600170112\" cy=\"40.71547800011327\" r=\"0.01059775431097833\" stroke=\"#555555\" stroke-width=\"0.0035325847703261103\" fill=\"#66cc99\" opacity=\"0.6\" /><circle cx=\"-74.00909999844257\" cy=\"40.706820999753376\" r=\"0.01059775431097833\" stroke=\"#555555\" stroke-width=\"0.0035325847703261103\" fill=\"#66cc99\" opacity=\"0.6\" /><circle cx=\"-74.00881099997359\" cy=\"40.713050999077694\" r=\"0.01059775431097833\" stroke=\"#555555\" stroke-width=\"0.0035325847703261103\" fill=\"#66cc99\" opacity=\"0.6\" /><circle cx=\"-74.00858473570133\" cy=\"40.714111000774025\" r=\"0.01059775431097833\" stroke=\"#555555\" stroke-width=\"0.0035325847703261103\" fill=\"#66cc99\" opacity=\"0.6\" /><circle cx=\"-74.00793800110387\" cy=\"40.71002266658424\" r=\"0.01059775431097833\" stroke=\"#555555\" stroke-width=\"0.0035325847703261103\" fill=\"#66cc99\" opacity=\"0.6\" /><circle cx=\"-74.00762309323994\" cy=\"40.71016216530185\" r=\"0.01059775431097833\" stroke=\"#555555\" stroke-width=\"0.0035325847703261103\" fill=\"#66cc99\" opacity=\"0.6\" /><circle cx=\"-74.00698581780337\" cy=\"40.71327233111697\" r=\"0.01059775431097833\" stroke=\"#555555\" stroke-width=\"0.0035325847703261103\" fill=\"#66cc99\" opacity=\"0.6\" /><circle cx=\"-74.00688600277107\" cy=\"40.719318001302135\" r=\"0.01059775431097833\" stroke=\"#555555\" stroke-width=\"0.0035325847703261103\" fill=\"#66cc99\" opacity=\"0.6\" /><circle cx=\"-74.00657099970202\" cy=\"40.70941599925865\" r=\"0.01059775431097833\" stroke=\"#555555\" stroke-width=\"0.0035325847703261103\" fill=\"#66cc99\" opacity=\"0.6\" /><circle cx=\"-74.0062770001748\" cy=\"40.72285399778783\" r=\"0.01059775431097833\" stroke=\"#555555\" stroke-width=\"0.0035325847703261103\" fill=\"#66cc99\" opacity=\"0.6\" /><circle cx=\"-74.00536700180581\" cy=\"40.728251000730204\" r=\"0.01059775431097833\" stroke=\"#555555\" stroke-width=\"0.0035325847703261103\" fill=\"#66cc99\" opacity=\"0.6\" /><circle cx=\"-74.00535100046275\" cy=\"40.63138566722445\" r=\"0.01059775431097833\" stroke=\"#555555\" stroke-width=\"0.0035325847703261103\" fill=\"#66cc99\" opacity=\"0.6\" /><circle cx=\"-74.0052290023424\" cy=\"40.72082400007119\" r=\"0.01059775431097833\" stroke=\"#555555\" stroke-width=\"0.0035325847703261103\" fill=\"#66cc99\" opacity=\"0.6\" /><circle cx=\"-74.0041310005885\" cy=\"40.713064999433136\" r=\"0.01059775431097833\" stroke=\"#555555\" stroke-width=\"0.0035325847703261103\" fill=\"#66cc99\" opacity=\"0.6\" /><circle cx=\"-74.00373899843763\" cy=\"40.72622700129312\" r=\"0.01059775431097833\" stroke=\"#555555\" stroke-width=\"0.0035325847703261103\" fill=\"#66cc99\" opacity=\"0.6\" /><circle cx=\"-74.00354899951809\" cy=\"40.65514366633887\" r=\"0.01059775431097833\" stroke=\"#555555\" stroke-width=\"0.0035325847703261103\" fill=\"#66cc99\" opacity=\"0.6\" /><circle cx=\"-74.00340673031336\" cy=\"40.71323378962671\" r=\"0.01059775431097833\" stroke=\"#555555\" stroke-width=\"0.0035325847703261103\" fill=\"#66cc99\" opacity=\"0.6\" /><circle cx=\"-74.00290599855235\" cy=\"40.73342200104225\" r=\"0.01059775431097833\" stroke=\"#555555\" stroke-width=\"0.0035325847703261103\" fill=\"#66cc99\" opacity=\"0.6\" /><circle cx=\"-74.00257800104762\" cy=\"40.73977666638199\" r=\"0.01059775431097833\" stroke=\"#555555\" stroke-width=\"0.0035325847703261103\" fill=\"#66cc99\" opacity=\"0.6\" /><circle cx=\"-74.00219709442206\" cy=\"40.75544635961596\" r=\"0.01059775431097833\" stroke=\"#555555\" stroke-width=\"0.0035325847703261103\" fill=\"#66cc99\" opacity=\"0.6\" /><circle cx=\"-74.0018260000577\" cy=\"40.71946500105898\" r=\"0.01059775431097833\" stroke=\"#555555\" stroke-width=\"0.0035325847703261103\" fill=\"#66cc99\" opacity=\"0.6\" /><circle cx=\"-74.00168999937027\" cy=\"40.740893000193296\" r=\"0.01059775431097833\" stroke=\"#555555\" stroke-width=\"0.0035325847703261103\" fill=\"#66cc99\" opacity=\"0.6\" /><circle cx=\"-74.00159259239406\" cy=\"40.60773573171741\" r=\"0.01059775431097833\" stroke=\"#555555\" stroke-width=\"0.0035325847703261103\" fill=\"#66cc99\" opacity=\"0.6\" /><circle cx=\"-74.00105471306033\" cy=\"40.718814263587134\" r=\"0.01059775431097833\" stroke=\"#555555\" stroke-width=\"0.0035325847703261103\" fill=\"#66cc99\" opacity=\"0.6\" /><circle cx=\"-74.00058287431507\" cy=\"40.61315892569516\" r=\"0.01059775431097833\" stroke=\"#555555\" stroke-width=\"0.0035325847703261103\" fill=\"#66cc99\" opacity=\"0.6\" /><circle cx=\"-74.00049500225435\" cy=\"40.73233799774325\" r=\"0.01059775431097833\" stroke=\"#555555\" stroke-width=\"0.0035325847703261103\" fill=\"#66cc99\" opacity=\"0.6\" /><circle cx=\"-74.00030814755975\" cy=\"40.732254493367876\" r=\"0.01059775431097833\" stroke=\"#555555\" stroke-width=\"0.0035325847703261103\" fill=\"#66cc99\" opacity=\"0.6\" /><circle cx=\"-74.00020100063497\" cy=\"40.737825999728116\" r=\"0.01059775431097833\" stroke=\"#555555\" stroke-width=\"0.0035325847703261103\" fill=\"#66cc99\" opacity=\"0.6\" /><circle cx=\"-74.00019299927328\" cy=\"40.71880300107709\" r=\"0.01059775431097833\" stroke=\"#555555\" stroke-width=\"0.0035325847703261103\" fill=\"#66cc99\" opacity=\"0.6\" /><circle cx=\"-73.99982638545937\" cy=\"40.71817387697391\" r=\"0.01059775431097833\" stroke=\"#555555\" stroke-width=\"0.0035325847703261103\" fill=\"#66cc99\" opacity=\"0.6\" /><circle cx=\"-73.99884094850685\" cy=\"40.61925870977273\" r=\"0.01059775431097833\" stroke=\"#555555\" stroke-width=\"0.0035325847703261103\" fill=\"#66cc99\" opacity=\"0.6\" /><circle cx=\"-73.99817432157568\" cy=\"40.60467699816932\" r=\"0.01059775431097833\" stroke=\"#555555\" stroke-width=\"0.0035325847703261103\" fill=\"#66cc99\" opacity=\"0.6\" /><circle cx=\"-73.99809099974297\" cy=\"40.66039666692321\" r=\"0.01059775431097833\" stroke=\"#555555\" stroke-width=\"0.0035325847703261103\" fill=\"#66cc99\" opacity=\"0.6\" /><circle cx=\"-73.99804100117201\" cy=\"40.74590599939995\" r=\"0.01059775431097833\" stroke=\"#555555\" stroke-width=\"0.0035325847703261103\" fill=\"#66cc99\" opacity=\"0.6\" /><circle cx=\"-73.99787100060406\" cy=\"40.741039999802105\" r=\"0.01059775431097833\" stroke=\"#555555\" stroke-width=\"0.0035325847703261103\" fill=\"#66cc99\" opacity=\"0.6\" /><circle cx=\"-73.99775078874781\" cy=\"40.73774146981052\" r=\"0.01059775431097833\" stroke=\"#555555\" stroke-width=\"0.0035325847703261103\" fill=\"#66cc99\" opacity=\"0.6\" /><circle cx=\"-73.99770200045987\" cy=\"40.72432866597571\" r=\"0.01059775431097833\" stroke=\"#555555\" stroke-width=\"0.0035325847703261103\" fill=\"#66cc99\" opacity=\"0.6\" /><circle cx=\"-73.99714100006673\" cy=\"40.72230099999366\" r=\"0.01059775431097833\" stroke=\"#555555\" stroke-width=\"0.0035325847703261103\" fill=\"#66cc99\" opacity=\"0.6\" /><circle cx=\"-73.99685724994863\" cy=\"40.626224462922195\" r=\"0.01059775431097833\" stroke=\"#555555\" stroke-width=\"0.0035325847703261103\" fill=\"#66cc99\" opacity=\"0.6\" /><circle cx=\"-73.99635300025969\" cy=\"40.62484166725887\" r=\"0.01059775431097833\" stroke=\"#555555\" stroke-width=\"0.0035325847703261103\" fill=\"#66cc99\" opacity=\"0.6\" /><circle cx=\"-73.99620899921355\" cy=\"40.73822799969515\" r=\"0.01059775431097833\" stroke=\"#555555\" stroke-width=\"0.0035325847703261103\" fill=\"#66cc99\" opacity=\"0.6\" /><circle cx=\"-73.99620399876055\" cy=\"40.725296998738045\" r=\"0.01059775431097833\" stroke=\"#555555\" stroke-width=\"0.0035325847703261103\" fill=\"#66cc99\" opacity=\"0.6\" /><circle cx=\"-73.99589172790934\" cy=\"40.67364106090412\" r=\"0.01059775431097833\" stroke=\"#555555\" stroke-width=\"0.0035325847703261103\" fill=\"#66cc99\" opacity=\"0.6\" /><circle cx=\"-73.9956570016487\" cy=\"40.74408099989751\" r=\"0.01059775431097833\" stroke=\"#555555\" stroke-width=\"0.0035325847703261103\" fill=\"#66cc99\" opacity=\"0.6\" /><circle cx=\"-73.99534882595742\" cy=\"40.63147876093745\" r=\"0.01059775431097833\" stroke=\"#555555\" stroke-width=\"0.0035325847703261103\" fill=\"#66cc99\" opacity=\"0.6\" /><circle cx=\"-73.99494697998841\" cy=\"40.68027335170176\" r=\"0.01059775431097833\" stroke=\"#555555\" stroke-width=\"0.0035325847703261103\" fill=\"#66cc99\" opacity=\"0.6\" /><circle cx=\"-73.99465900006331\" cy=\"40.72591466682659\" r=\"0.01059775431097833\" stroke=\"#555555\" stroke-width=\"0.0035325847703261103\" fill=\"#66cc99\" opacity=\"0.6\" /><circle cx=\"-73.9946587805514\" cy=\"40.636260890961395\" r=\"0.01059775431097833\" stroke=\"#555555\" stroke-width=\"0.0035325847703261103\" fill=\"#66cc99\" opacity=\"0.6\" /><circle cx=\"-73.99444874451204\" cy=\"40.64648407726636\" r=\"0.01059775431097833\" stroke=\"#555555\" stroke-width=\"0.0035325847703261103\" fill=\"#66cc99\" opacity=\"0.6\" /><circle cx=\"-73.9942022375285\" cy=\"40.640912711444656\" r=\"0.01059775431097833\" stroke=\"#555555\" stroke-width=\"0.0035325847703261103\" fill=\"#66cc99\" opacity=\"0.6\" /><circle cx=\"-73.99380690654237\" cy=\"40.720246883147254\" r=\"0.01059775431097833\" stroke=\"#555555\" stroke-width=\"0.0035325847703261103\" fill=\"#66cc99\" opacity=\"0.6\" /><circle cx=\"-73.99375299913589\" cy=\"40.71826699954992\" r=\"0.01059775431097833\" stroke=\"#555555\" stroke-width=\"0.0035325847703261103\" fill=\"#66cc99\" opacity=\"0.6\" /><circle cx=\"-73.9936762000529\" cy=\"40.601950461572315\" r=\"0.01059775431097833\" stroke=\"#555555\" stroke-width=\"0.0035325847703261103\" fill=\"#66cc99\" opacity=\"0.6\" /><circle cx=\"-73.99339099970578\" cy=\"40.752287000775894\" r=\"0.01059775431097833\" stroke=\"#555555\" stroke-width=\"0.0035325847703261103\" fill=\"#66cc99\" opacity=\"0.6\" /><circle cx=\"-73.99336500134324\" cy=\"40.74721499918219\" r=\"0.01059775431097833\" stroke=\"#555555\" stroke-width=\"0.0035325847703261103\" fill=\"#66cc99\" opacity=\"0.6\" /><circle cx=\"-73.99308599821961\" cy=\"40.69746599996469\" r=\"0.01059775431097833\" stroke=\"#555555\" stroke-width=\"0.0035325847703261103\" fill=\"#66cc99\" opacity=\"0.6\" /><circle cx=\"-73.99287200067424\" cy=\"40.66541366712979\" r=\"0.01059775431097833\" stroke=\"#555555\" stroke-width=\"0.0035325847703261103\" fill=\"#66cc99\" opacity=\"0.6\" /><circle cx=\"-73.99276500471389\" cy=\"40.742954317826005\" r=\"0.01059775431097833\" stroke=\"#555555\" stroke-width=\"0.0035325847703261103\" fill=\"#66cc99\" opacity=\"0.6\" /><circle cx=\"-73.99250799849149\" cy=\"40.73046499853991\" r=\"0.01059775431097833\" stroke=\"#555555\" stroke-width=\"0.0035325847703261103\" fill=\"#66cc99\" opacity=\"0.6\" /><circle cx=\"-73.99181830901125\" cy=\"40.694196480776995\" r=\"0.01059775431097833\" stroke=\"#555555\" stroke-width=\"0.0035325847703261103\" fill=\"#66cc99\" opacity=\"0.6\" /><circle cx=\"-73.99106999861966\" cy=\"40.73005400028978\" r=\"0.01059775431097833\" stroke=\"#555555\" stroke-width=\"0.0035325847703261103\" fill=\"#66cc99\" opacity=\"0.6\" /><circle cx=\"-73.99105699913983\" cy=\"40.75037300003949\" r=\"0.01059775431097833\" stroke=\"#555555\" stroke-width=\"0.0035325847703261103\" fill=\"#66cc99\" opacity=\"0.6\" /><circle cx=\"-73.99075649573565\" cy=\"40.68611054725977\" r=\"0.01059775431097833\" stroke=\"#555555\" stroke-width=\"0.0035325847703261103\" fill=\"#66cc99\" opacity=\"0.6\" /><circle cx=\"-73.99066976901818\" cy=\"40.73476331217923\" r=\"0.01059775431097833\" stroke=\"#555555\" stroke-width=\"0.0035325847703261103\" fill=\"#66cc99\" opacity=\"0.6\" /><circle cx=\"-73.99053886181645\" cy=\"40.73587226699812\" r=\"0.01059775431097833\" stroke=\"#555555\" stroke-width=\"0.0035325847703261103\" fill=\"#66cc99\" opacity=\"0.6\" /><circle cx=\"-73.99053100065458\" cy=\"40.69933699977884\" r=\"0.01059775431097833\" stroke=\"#555555\" stroke-width=\"0.0035325847703261103\" fill=\"#66cc99\" opacity=\"0.6\" /><circle cx=\"-73.99045399865993\" cy=\"40.620686997680025\" r=\"0.01059775431097833\" stroke=\"#555555\" stroke-width=\"0.0035325847703261103\" fill=\"#66cc99\" opacity=\"0.6\" /><circle cx=\"-73.99017700122197\" cy=\"40.713855001020406\" r=\"0.01059775431097833\" stroke=\"#555555\" stroke-width=\"0.0035325847703261103\" fill=\"#66cc99\" opacity=\"0.6\" /><circle cx=\"-73.99015100090539\" cy=\"40.692403999991036\" r=\"0.01059775431097833\" stroke=\"#555555\" stroke-width=\"0.0035325847703261103\" fill=\"#66cc99\" opacity=\"0.6\" /><circle cx=\"-73.98999799960687\" cy=\"40.693218999611084\" r=\"0.01059775431097833\" stroke=\"#555555\" stroke-width=\"0.0035325847703261103\" fill=\"#66cc99\" opacity=\"0.6\" /><circle cx=\"-73.98995099881881\" cy=\"40.734673000996125\" r=\"0.01059775431097833\" stroke=\"#555555\" stroke-width=\"0.0035325847703261103\" fill=\"#66cc99\" opacity=\"0.6\" /><circle cx=\"-73.98993800003434\" cy=\"40.72340166574911\" r=\"0.01059775431097833\" stroke=\"#555555\" stroke-width=\"0.0035325847703261103\" fill=\"#66cc99\" opacity=\"0.6\" /><circle cx=\"-73.98977899938897\" cy=\"40.67027166728493\" r=\"0.01059775431097833\" stroke=\"#555555\" stroke-width=\"0.0035325847703261103\" fill=\"#66cc99\" opacity=\"0.6\" /><circle cx=\"-73.98973500085859\" cy=\"40.757307998551504\" r=\"0.01059775431097833\" stroke=\"#555555\" stroke-width=\"0.0035325847703261103\" fill=\"#66cc99\" opacity=\"0.6\" /><circle cx=\"-73.98934400102907\" cy=\"40.74130266729\" r=\"0.01059775431097833\" stroke=\"#555555\" stroke-width=\"0.0035325847703261103\" fill=\"#66cc99\" opacity=\"0.6\" /><circle cx=\"-73.98869800128737\" cy=\"40.74545399979951\" r=\"0.01059775431097833\" stroke=\"#555555\" stroke-width=\"0.0035325847703261103\" fill=\"#66cc99\" opacity=\"0.6\" /><circle cx=\"-73.98830199974512\" cy=\"40.670846666842756\" r=\"0.01059775431097833\" stroke=\"#555555\" stroke-width=\"0.0035325847703261103\" fill=\"#66cc99\" opacity=\"0.6\" /><circle cx=\"-73.98807806807719\" cy=\"40.71868074219453\" r=\"0.01059775431097833\" stroke=\"#555555\" stroke-width=\"0.0035325847703261103\" fill=\"#66cc99\" opacity=\"0.6\" /><circle cx=\"-73.9879368338264\" cy=\"40.74964456009442\" r=\"0.01059775431097833\" stroke=\"#555555\" stroke-width=\"0.0035325847703261103\" fill=\"#66cc99\" opacity=\"0.6\" /><circle cx=\"-73.98777189072918\" cy=\"40.74978939990011\" r=\"0.01059775431097833\" stroke=\"#555555\" stroke-width=\"0.0035325847703261103\" fill=\"#66cc99\" opacity=\"0.6\" /><circle cx=\"-73.98769099825152\" cy=\"40.755477001982506\" r=\"0.01059775431097833\" stroke=\"#555555\" stroke-width=\"0.0035325847703261103\" fill=\"#66cc99\" opacity=\"0.6\" /><circle cx=\"-73.98749500051885\" cy=\"40.75528999995681\" r=\"0.01059775431097833\" stroke=\"#555555\" stroke-width=\"0.0035325847703261103\" fill=\"#66cc99\" opacity=\"0.6\" /><circle cx=\"-73.98740940202974\" cy=\"40.71830605618619\" r=\"0.01059775431097833\" stroke=\"#555555\" stroke-width=\"0.0035325847703261103\" fill=\"#66cc99\" opacity=\"0.6\" /><circle cx=\"-73.98721815267317\" cy=\"40.692470636847084\" r=\"0.01059775431097833\" stroke=\"#555555\" stroke-width=\"0.0035325847703261103\" fill=\"#66cc99\" opacity=\"0.6\" /><circle cx=\"-73.98688499993673\" cy=\"40.699742667691574\" r=\"0.01059775431097833\" stroke=\"#555555\" stroke-width=\"0.0035325847703261103\" fill=\"#66cc99\" opacity=\"0.6\" /><circle cx=\"-73.98682900011477\" cy=\"40.59770366695856\" r=\"0.01059775431097833\" stroke=\"#555555\" stroke-width=\"0.0035325847703261103\" fill=\"#66cc99\" opacity=\"0.6\" /><circle cx=\"-73.98676800153976\" cy=\"40.75461199851542\" r=\"0.01059775431097833\" stroke=\"#555555\" stroke-width=\"0.0035325847703261103\" fill=\"#66cc99\" opacity=\"0.6\" /><circle cx=\"-73.98659900207888\" cy=\"40.739864000474604\" r=\"0.01059775431097833\" stroke=\"#555555\" stroke-width=\"0.0035325847703261103\" fill=\"#66cc99\" opacity=\"0.6\" /><circle cx=\"-73.98622899953202\" cy=\"40.755983000570076\" r=\"0.01059775431097833\" stroke=\"#555555\" stroke-width=\"0.0035325847703261103\" fill=\"#66cc99\" opacity=\"0.6\" /><circle cx=\"-73.98605667854612\" cy=\"40.69225539645323\" r=\"0.01059775431097833\" stroke=\"#555555\" stroke-width=\"0.0035325847703261103\" fill=\"#66cc99\" opacity=\"0.6\" /><circle cx=\"-73.98598400026407\" cy=\"40.76245599925997\" r=\"0.01059775431097833\" stroke=\"#555555\" stroke-width=\"0.0035325847703261103\" fill=\"#66cc99\" opacity=\"0.6\" /><circle cx=\"-73.98575000112093\" cy=\"40.73269099971662\" r=\"0.01059775431097833\" stroke=\"#555555\" stroke-width=\"0.0035325847703261103\" fill=\"#66cc99\" opacity=\"0.6\" /><circle cx=\"-73.98506379575646\" cy=\"40.69054418535472\" r=\"0.01059775431097833\" stroke=\"#555555\" stroke-width=\"0.0035325847703261103\" fill=\"#66cc99\" opacity=\"0.6\" /><circle cx=\"-73.98503624034139\" cy=\"40.68840847580642\" r=\"0.01059775431097833\" stroke=\"#555555\" stroke-width=\"0.0035325847703261103\" fill=\"#66cc99\" opacity=\"0.6\" /><circle cx=\"-73.98459099904711\" cy=\"40.754184001312545\" r=\"0.01059775431097833\" stroke=\"#555555\" stroke-width=\"0.0035325847703261103\" fill=\"#66cc99\" opacity=\"0.6\" /><circle cx=\"-73.98452199846113\" cy=\"40.617108999866005\" r=\"0.01059775431097833\" stroke=\"#555555\" stroke-width=\"0.0035325847703261103\" fill=\"#66cc99\" opacity=\"0.6\" /><circle cx=\"-73.98426400110407\" cy=\"40.743069999259035\" r=\"0.01059775431097833\" stroke=\"#555555\" stroke-width=\"0.0035325847703261103\" fill=\"#66cc99\" opacity=\"0.6\" /><circle cx=\"-73.98420956591096\" cy=\"40.759801973870694\" r=\"0.01059775431097833\" stroke=\"#555555\" stroke-width=\"0.0035325847703261103\" fill=\"#66cc99\" opacity=\"0.6\" /><circle cx=\"-73.98384899986625\" cy=\"40.76172799961419\" r=\"0.01059775431097833\" stroke=\"#555555\" stroke-width=\"0.0035325847703261103\" fill=\"#66cc99\" opacity=\"0.6\" /><circle cx=\"-73.98376500045946\" cy=\"40.58884066651933\" r=\"0.01059775431097833\" stroke=\"#555555\" stroke-width=\"0.0035325847703261103\" fill=\"#66cc99\" opacity=\"0.6\" /><circle cx=\"-73.98310999909673\" cy=\"40.67731566735096\" r=\"0.01059775431097833\" stroke=\"#555555\" stroke-width=\"0.0035325847703261103\" fill=\"#66cc99\" opacity=\"0.6\" /><circle cx=\"-73.98220899995783\" cy=\"40.77344000052039\" r=\"0.01059775431097833\" stroke=\"#555555\" stroke-width=\"0.0035325847703261103\" fill=\"#66cc99\" opacity=\"0.6\" /><circle cx=\"-73.98207600148947\" cy=\"40.74608099909145\" r=\"0.01059775431097833\" stroke=\"#555555\" stroke-width=\"0.0035325847703261103\" fill=\"#66cc99\" opacity=\"0.6\" /><circle cx=\"-73.98197000159583\" cy=\"40.77845300068614\" r=\"0.01059775431097833\" stroke=\"#555555\" stroke-width=\"0.0035325847703261103\" fill=\"#66cc99\" opacity=\"0.6\" /><circle cx=\"-73.98196299856706\" cy=\"40.75382100064824\" r=\"0.01059775431097833\" stroke=\"#555555\" stroke-width=\"0.0035325847703261103\" fill=\"#66cc99\" opacity=\"0.6\" /><circle cx=\"-73.98192900232715\" cy=\"40.76824700063689\" r=\"0.01059775431097833\" stroke=\"#555555\" stroke-width=\"0.0035325847703261103\" fill=\"#66cc99\" opacity=\"0.6\" /><circle cx=\"-73.98178001069293\" cy=\"40.61145578989005\" r=\"0.01059775431097833\" stroke=\"#555555\" stroke-width=\"0.0035325847703261103\" fill=\"#66cc99\" opacity=\"0.6\" /><circle cx=\"-73.98177094440949\" cy=\"40.690648119969794\" r=\"0.01059775431097833\" stroke=\"#555555\" stroke-width=\"0.0035325847703261103\" fill=\"#66cc99\" opacity=\"0.6\" /><circle cx=\"-73.98169782344476\" cy=\"40.76297015245628\" r=\"0.01059775431097833\" stroke=\"#555555\" stroke-width=\"0.0035325847703261103\" fill=\"#66cc99\" opacity=\"0.6\" /><circle cx=\"-73.98168087489128\" cy=\"40.73097497580066\" r=\"0.01059775431097833\" stroke=\"#555555\" stroke-width=\"0.0035325847703261103\" fill=\"#66cc99\" opacity=\"0.6\" /><circle cx=\"-73.98164872301398\" cy=\"40.768249531776064\" r=\"0.01059775431097833\" stroke=\"#555555\" stroke-width=\"0.0035325847703261103\" fill=\"#66cc99\" opacity=\"0.6\" /><circle cx=\"-73.98133100227702\" cy=\"40.75864100159815\" r=\"0.01059775431097833\" stroke=\"#555555\" stroke-width=\"0.0035325847703261103\" fill=\"#66cc99\" opacity=\"0.6\" /><circle cx=\"-73.9812359981396\" cy=\"40.57728100006751\" r=\"0.01059775431097833\" stroke=\"#555555\" stroke-width=\"0.0035325847703261103\" fill=\"#66cc99\" opacity=\"0.6\" /><circle cx=\"-73.98072973372128\" cy=\"40.76456552501829\" r=\"0.01059775431097833\" stroke=\"#555555\" stroke-width=\"0.0035325847703261103\" fill=\"#66cc99\" opacity=\"0.6\" /><circle cx=\"-73.98040679874578\" cy=\"40.68831058019022\" r=\"0.01059775431097833\" stroke=\"#555555\" stroke-width=\"0.0035325847703261103\" fill=\"#66cc99\" opacity=\"0.6\" /><circle cx=\"-73.98037300229343\" cy=\"40.60405899980493\" r=\"0.01059775431097833\" stroke=\"#555555\" stroke-width=\"0.0035325847703261103\" fill=\"#66cc99\" opacity=\"0.6\" /><circle cx=\"-73.98025117900944\" cy=\"40.66624469001985\" r=\"0.01059775431097833\" stroke=\"#555555\" stroke-width=\"0.0035325847703261103\" fill=\"#66cc99\" opacity=\"0.6\" /><circle cx=\"-73.97991700056134\" cy=\"40.78393399959032\" r=\"0.01059775431097833\" stroke=\"#555555\" stroke-width=\"0.0035325847703261103\" fill=\"#66cc99\" opacity=\"0.6\" /><circle cx=\"-73.97973580592873\" cy=\"40.66003568810021\" r=\"0.01059775431097833\" stroke=\"#555555\" stroke-width=\"0.0035325847703261103\" fill=\"#66cc99\" opacity=\"0.6\" /><circle cx=\"-73.97972116229084\" cy=\"40.64427200012998\" r=\"0.01059775431097833\" stroke=\"#555555\" stroke-width=\"0.0035325847703261103\" fill=\"#66cc99\" opacity=\"0.6\" /><circle cx=\"-73.97918899989101\" cy=\"40.75276866674217\" r=\"0.01059775431097833\" stroke=\"#555555\" stroke-width=\"0.0035325847703261103\" fill=\"#66cc99\" opacity=\"0.6\" /><circle cx=\"-73.97908400099428\" cy=\"40.597235999920436\" r=\"0.01059775431097833\" stroke=\"#555555\" stroke-width=\"0.0035325847703261103\" fill=\"#66cc99\" opacity=\"0.6\" /><circle cx=\"-73.97880999956767\" cy=\"40.683665667279435\" r=\"0.01059775431097833\" stroke=\"#555555\" stroke-width=\"0.0035325847703261103\" fill=\"#66cc99\" opacity=\"0.6\" /><circle cx=\"-73.97818899936274\" cy=\"40.59246500088859\" r=\"0.01059775431097833\" stroke=\"#555555\" stroke-width=\"0.0035325847703261103\" fill=\"#66cc99\" opacity=\"0.6\" /><circle cx=\"-73.97817199965161\" cy=\"40.63611866666291\" r=\"0.01059775431097833\" stroke=\"#555555\" stroke-width=\"0.0035325847703261103\" fill=\"#66cc99\" opacity=\"0.6\" /><circle cx=\"-73.97754993539385\" cy=\"40.68442016526762\" r=\"0.01059775431097833\" stroke=\"#555555\" stroke-width=\"0.0035325847703261103\" fill=\"#66cc99\" opacity=\"0.6\" /><circle cx=\"-73.97736800085171\" cy=\"40.76408500081713\" r=\"0.01059775431097833\" stroke=\"#555555\" stroke-width=\"0.0035325847703261103\" fill=\"#66cc99\" opacity=\"0.6\" /><circle cx=\"-73.97697099965796\" cy=\"40.62975466638584\" r=\"0.01059775431097833\" stroke=\"#555555\" stroke-width=\"0.0035325847703261103\" fill=\"#66cc99\" opacity=\"0.6\" /><circle cx=\"-73.97678343963167\" cy=\"40.684488323453685\" r=\"0.01059775431097833\" stroke=\"#555555\" stroke-width=\"0.0035325847703261103\" fill=\"#66cc99\" opacity=\"0.6\" /><circle cx=\"-73.9767132992584\" cy=\"40.75180742981634\" r=\"0.01059775431097833\" stroke=\"#555555\" stroke-width=\"0.0035325847703261103\" fill=\"#66cc99\" opacity=\"0.6\" /><circle cx=\"-73.976336575218\" cy=\"40.77551939729258\" r=\"0.01059775431097833\" stroke=\"#555555\" stroke-width=\"0.0035325847703261103\" fill=\"#66cc99\" opacity=\"0.6\" /><circle cx=\"-73.97621799859327\" cy=\"40.78864400073892\" r=\"0.01059775431097833\" stroke=\"#555555\" stroke-width=\"0.0035325847703261103\" fill=\"#66cc99\" opacity=\"0.6\" /><circle cx=\"-73.97606933170925\" cy=\"40.62501744019143\" r=\"0.01059775431097833\" stroke=\"#555555\" stroke-width=\"0.0035325847703261103\" fill=\"#66cc99\" opacity=\"0.6\" /><circle cx=\"-73.97604100111508\" cy=\"40.751431000286864\" r=\"0.01059775431097833\" stroke=\"#555555\" stroke-width=\"0.0035325847703261103\" fill=\"#66cc99\" opacity=\"0.6\" /><circle cx=\"-73.97595787413822\" cy=\"40.576033818103646\" r=\"0.01059775431097833\" stroke=\"#555555\" stroke-width=\"0.0035325847703261103\" fill=\"#66cc99\" opacity=\"0.6\" /><circle cx=\"-73.97577599917474\" cy=\"40.65078166803418\" r=\"0.01059775431097833\" stroke=\"#555555\" stroke-width=\"0.0035325847703261103\" fill=\"#66cc99\" opacity=\"0.6\" /><circle cx=\"-73.97537499833149\" cy=\"40.68711899950771\" r=\"0.01059775431097833\" stroke=\"#555555\" stroke-width=\"0.0035325847703261103\" fill=\"#66cc99\" opacity=\"0.6\" /><circle cx=\"-73.9752569782215\" cy=\"40.62073162316788\" r=\"0.01059775431097833\" stroke=\"#555555\" stroke-width=\"0.0035325847703261103\" fill=\"#66cc99\" opacity=\"0.6\" /><circle cx=\"-73.9752485052734\" cy=\"40.76008683231326\" r=\"0.01059775431097833\" stroke=\"#555555\" stroke-width=\"0.0035325847703261103\" fill=\"#66cc99\" opacity=\"0.6\" /><circle cx=\"-73.97499915116808\" cy=\"40.68086213682956\" r=\"0.01059775431097833\" stroke=\"#555555\" stroke-width=\"0.0035325847703261103\" fill=\"#66cc99\" opacity=\"0.6\" /><circle cx=\"-73.97459272818807\" cy=\"40.580738758491464\" r=\"0.01059775431097833\" stroke=\"#555555\" stroke-width=\"0.0035325847703261103\" fill=\"#66cc99\" opacity=\"0.6\" /><circle cx=\"-73.97426599968905\" cy=\"40.589449666625285\" r=\"0.01059775431097833\" stroke=\"#555555\" stroke-width=\"0.0035325847703261103\" fill=\"#66cc99\" opacity=\"0.6\" /><circle cx=\"-73.97404850873143\" cy=\"40.61435671190883\" r=\"0.01059775431097833\" stroke=\"#555555\" stroke-width=\"0.0035325847703261103\" fill=\"#66cc99\" opacity=\"0.6\" /><circle cx=\"-73.97394599849406\" cy=\"40.68611300020567\" r=\"0.01059775431097833\" stroke=\"#555555\" stroke-width=\"0.0035325847703261103\" fill=\"#66cc99\" opacity=\"0.6\" /><circle cx=\"-73.97337641974885\" cy=\"40.59592482551748\" r=\"0.01059775431097833\" stroke=\"#555555\" stroke-width=\"0.0035325847703261103\" fill=\"#66cc99\" opacity=\"0.6\" /><circle cx=\"-73.97334700047045\" cy=\"40.764810999755284\" r=\"0.01059775431097833\" stroke=\"#555555\" stroke-width=\"0.0035325847703261103\" fill=\"#66cc99\" opacity=\"0.6\" /><circle cx=\"-73.97300281528751\" cy=\"40.608842808949916\" r=\"0.01059775431097833\" stroke=\"#555555\" stroke-width=\"0.0035325847703261103\" fill=\"#66cc99\" opacity=\"0.6\" /><circle cx=\"-73.97285279191024\" cy=\"40.67710217983294\" r=\"0.01059775431097833\" stroke=\"#555555\" stroke-width=\"0.0035325847703261103\" fill=\"#66cc99\" opacity=\"0.6\" /><circle cx=\"-73.9723553085244\" cy=\"40.603258405128265\" r=\"0.01059775431097833\" stroke=\"#555555\" stroke-width=\"0.0035325847703261103\" fill=\"#66cc99\" opacity=\"0.6\" /><circle cx=\"-73.97232299915696\" cy=\"40.79391900121471\" r=\"0.01059775431097833\" stroke=\"#555555\" stroke-width=\"0.0035325847703261103\" fill=\"#66cc99\" opacity=\"0.6\" /><circle cx=\"-73.97209794937208\" cy=\"40.78134608418206\" r=\"0.01059775431097833\" stroke=\"#555555\" stroke-width=\"0.0035325847703261103\" fill=\"#66cc99\" opacity=\"0.6\" /><circle cx=\"-73.97192000069982\" cy=\"40.75710699989316\" r=\"0.01059775431097833\" stroke=\"#555555\" stroke-width=\"0.0035325847703261103\" fill=\"#66cc99\" opacity=\"0.6\" /><circle cx=\"-73.9709563319228\" cy=\"40.6752946951032\" r=\"0.01059775431097833\" stroke=\"#555555\" stroke-width=\"0.0035325847703261103\" fill=\"#66cc99\" opacity=\"0.6\" /><circle cx=\"-73.96907237490204\" cy=\"40.75746830782865\" r=\"0.01059775431097833\" stroke=\"#555555\" stroke-width=\"0.0035325847703261103\" fill=\"#66cc99\" opacity=\"0.6\" /><circle cx=\"-73.96882849429672\" cy=\"40.78582304678557\" r=\"0.01059775431097833\" stroke=\"#555555\" stroke-width=\"0.0035325847703261103\" fill=\"#66cc99\" opacity=\"0.6\" /><circle cx=\"-73.96850099975177\" cy=\"40.57631166708091\" r=\"0.01059775431097833\" stroke=\"#555555\" stroke-width=\"0.0035325847703261103\" fill=\"#66cc99\" opacity=\"0.6\" /><circle cx=\"-73.96837899960818\" cy=\"40.799446000334825\" r=\"0.01059775431097833\" stroke=\"#555555\" stroke-width=\"0.0035325847703261103\" fill=\"#66cc99\" opacity=\"0.6\" /><circle cx=\"-73.9679670004732\" cy=\"40.762526000304575\" r=\"0.01059775431097833\" stroke=\"#555555\" stroke-width=\"0.0035325847703261103\" fill=\"#66cc99\" opacity=\"0.6\" /><circle cx=\"-73.96737501711436\" cy=\"40.762708855394564\" r=\"0.01059775431097833\" stroke=\"#555555\" stroke-width=\"0.0035325847703261103\" fill=\"#66cc99\" opacity=\"0.6\" /><circle cx=\"-73.9668470005456\" cy=\"40.80396699961484\" r=\"0.01059775431097833\" stroke=\"#555555\" stroke-width=\"0.0035325847703261103\" fill=\"#66cc99\" opacity=\"0.6\" /><circle cx=\"-73.9667959986695\" cy=\"40.68809400106055\" r=\"0.01059775431097833\" stroke=\"#555555\" stroke-width=\"0.0035325847703261103\" fill=\"#66cc99\" opacity=\"0.6\" /><circle cx=\"-73.96608964413245\" cy=\"40.76461809442373\" r=\"0.01059775431097833\" stroke=\"#555555\" stroke-width=\"0.0035325847703261103\" fill=\"#66cc99\" opacity=\"0.6\" /><circle cx=\"-73.96583799857275\" cy=\"40.68326299912644\" r=\"0.01059775431097833\" stroke=\"#555555\" stroke-width=\"0.0035325847703261103\" fill=\"#66cc99\" opacity=\"0.6\" /><circle cx=\"-73.96460245687166\" cy=\"40.79161879767014\" r=\"0.01059775431097833\" stroke=\"#555555\" stroke-width=\"0.0035325847703261103\" fill=\"#66cc99\" opacity=\"0.6\" /><circle cx=\"-73.96435779623125\" cy=\"40.64390459860419\" r=\"0.01059775431097833\" stroke=\"#555555\" stroke-width=\"0.0035325847703261103\" fill=\"#66cc99\" opacity=\"0.6\" /><circle cx=\"-73.96422203748425\" cy=\"40.67203223545925\" r=\"0.01059775431097833\" stroke=\"#555555\" stroke-width=\"0.0035325847703261103\" fill=\"#66cc99\" opacity=\"0.6\" /><circle cx=\"-73.96410999757751\" cy=\"40.807722001230864\" r=\"0.01059775431097833\" stroke=\"#555555\" stroke-width=\"0.0035325847703261103\" fill=\"#66cc99\" opacity=\"0.6\" /><circle cx=\"-73.96387000158042\" cy=\"40.76814100049679\" r=\"0.01059775431097833\" stroke=\"#555555\" stroke-width=\"0.0035325847703261103\" fill=\"#66cc99\" opacity=\"0.6\" /><circle cx=\"-73.96379005505493\" cy=\"40.6409401651401\" r=\"0.01059775431097833\" stroke=\"#555555\" stroke-width=\"0.0035325847703261103\" fill=\"#66cc99\" opacity=\"0.6\" /><circle cx=\"-73.96288246192114\" cy=\"40.65049324646484\" r=\"0.01059775431097833\" stroke=\"#555555\" stroke-width=\"0.0035325847703261103\" fill=\"#66cc99\" opacity=\"0.6\" /><circle cx=\"-73.96269486837261\" cy=\"40.63514193733789\" r=\"0.01059775431097833\" stroke=\"#555555\" stroke-width=\"0.0035325847703261103\" fill=\"#66cc99\" opacity=\"0.6\" /><circle cx=\"-73.96203130426609\" cy=\"40.6616334551018\" r=\"0.01059775431097833\" stroke=\"#555555\" stroke-width=\"0.0035325847703261103\" fill=\"#66cc99\" opacity=\"0.6\" /><circle cx=\"-73.96151793942495\" cy=\"40.62920837758969\" r=\"0.01059775431097833\" stroke=\"#555555\" stroke-width=\"0.0035325847703261103\" fill=\"#66cc99\" opacity=\"0.6\" /><circle cx=\"-73.96145343987648\" cy=\"40.65507304163716\" r=\"0.01059775431097833\" stroke=\"#555555\" stroke-width=\"0.0035325847703261103\" fill=\"#66cc99\" opacity=\"0.6\" /><circle cx=\"-73.96137008267617\" cy=\"40.796060739904526\" r=\"0.01059775431097833\" stroke=\"#555555\" stroke-width=\"0.0035325847703261103\" fill=\"#66cc99\" opacity=\"0.6\" /><circle cx=\"-73.96135378598797\" cy=\"40.577710196642435\" r=\"0.01059775431097833\" stroke=\"#555555\" stroke-width=\"0.0035325847703261103\" fill=\"#66cc99\" opacity=\"0.6\" /><circle cx=\"-73.96069316246925\" cy=\"40.625022819915166\" r=\"0.01059775431097833\" stroke=\"#555555\" stroke-width=\"0.0035325847703261103\" fill=\"#66cc99\" opacity=\"0.6\" /><circle cx=\"-73.95999000137212\" cy=\"40.68888900026455\" r=\"0.01059775431097833\" stroke=\"#555555\" stroke-width=\"0.0035325847703261103\" fill=\"#66cc99\" opacity=\"0.6\" /><circle cx=\"-73.95987399886047\" cy=\"40.77362000074615\" r=\"0.01059775431097833\" stroke=\"#555555\" stroke-width=\"0.0035325847703261103\" fill=\"#66cc99\" opacity=\"0.6\" /><circle cx=\"-73.95924499945693\" cy=\"40.670342666584396\" r=\"0.01059775431097833\" stroke=\"#555555\" stroke-width=\"0.0035325847703261103\" fill=\"#66cc99\" opacity=\"0.6\" /><circle cx=\"-73.9592431052215\" cy=\"40.617397744443736\" r=\"0.01059775431097833\" stroke=\"#555555\" stroke-width=\"0.0035325847703261103\" fill=\"#66cc99\" opacity=\"0.6\" /><circle cx=\"-73.95837200097044\" cy=\"40.815580999978934\" r=\"0.01059775431097833\" stroke=\"#555555\" stroke-width=\"0.0035325847703261103\" fill=\"#66cc99\" opacity=\"0.6\" /><circle cx=\"-73.95836178682246\" cy=\"40.76880251014895\" r=\"0.01059775431097833\" stroke=\"#555555\" stroke-width=\"0.0035325847703261103\" fill=\"#66cc99\" opacity=\"0.6\" /><circle cx=\"-73.9580997367769\" cy=\"40.67076515344894\" r=\"0.01059775431097833\" stroke=\"#555555\" stroke-width=\"0.0035325847703261103\" fill=\"#66cc99\" opacity=\"0.6\" /><circle cx=\"-73.95806670661364\" cy=\"40.800581558114956\" r=\"0.01059775431097833\" stroke=\"#555555\" stroke-width=\"0.0035325847703261103\" fill=\"#66cc99\" opacity=\"0.6\" /><circle cx=\"-73.95783200075729\" cy=\"40.708383000017925\" r=\"0.01059775431097833\" stroke=\"#555555\" stroke-width=\"0.0035325847703261103\" fill=\"#66cc99\" opacity=\"0.6\" /><circle cx=\"-73.95762400074634\" cy=\"40.67477166685263\" r=\"0.01059775431097833\" stroke=\"#555555\" stroke-width=\"0.0035325847703261103\" fill=\"#66cc99\" opacity=\"0.6\" /><circle cx=\"-73.95760873538083\" cy=\"40.608638645396006\" r=\"0.01059775431097833\" stroke=\"#555555\" stroke-width=\"0.0035325847703261103\" fill=\"#66cc99\" opacity=\"0.6\" /><circle cx=\"-73.95684800014614\" cy=\"40.68137966658742\" r=\"0.01059775431097833\" stroke=\"#555555\" stroke-width=\"0.0035325847703261103\" fill=\"#66cc99\" opacity=\"0.6\" /><circle cx=\"-73.95666499806525\" cy=\"40.71717399858899\" r=\"0.01059775431097833\" stroke=\"#555555\" stroke-width=\"0.0035325847703261103\" fill=\"#66cc99\" opacity=\"0.6\" /><circle cx=\"-73.95582700110425\" cy=\"40.68059566598263\" r=\"0.01059775431097833\" stroke=\"#555555\" stroke-width=\"0.0035325847703261103\" fill=\"#66cc99\" opacity=\"0.6\" /><circle cx=\"-73.95581122316301\" cy=\"40.59930895095475\" r=\"0.01059775431097833\" stroke=\"#555555\" stroke-width=\"0.0035325847703261103\" fill=\"#66cc99\" opacity=\"0.6\" /><circle cx=\"-73.95558899985132\" cy=\"40.77949199820952\" r=\"0.01059775431097833\" stroke=\"#555555\" stroke-width=\"0.0035325847703261103\" fill=\"#66cc99\" opacity=\"0.6\" /><circle cx=\"-73.95507827493762\" cy=\"40.59532169111695\" r=\"0.01059775431097833\" stroke=\"#555555\" stroke-width=\"0.0035325847703261103\" fill=\"#66cc99\" opacity=\"0.6\" /><circle cx=\"-73.95479778057312\" cy=\"40.80505813344211\" r=\"0.01059775431097833\" stroke=\"#555555\" stroke-width=\"0.0035325847703261103\" fill=\"#66cc99\" opacity=\"0.6\" /><circle cx=\"-73.95442500146235\" cy=\"40.73126699971465\" r=\"0.01059775431097833\" stroke=\"#555555\" stroke-width=\"0.0035325847703261103\" fill=\"#66cc99\" opacity=\"0.6\" /><circle cx=\"-73.95405791257907\" cy=\"40.58654754707536\" r=\"0.01059775431097833\" stroke=\"#555555\" stroke-width=\"0.0035325847703261103\" fill=\"#66cc99\" opacity=\"0.6\" /><circle cx=\"-73.95367600087873\" cy=\"40.82200799968475\" r=\"0.01059775431097833\" stroke=\"#555555\" stroke-width=\"0.0035325847703261103\" fill=\"#66cc99\" opacity=\"0.6\" /><circle cx=\"-73.95358099875249\" cy=\"40.74262599969749\" r=\"0.01059775431097833\" stroke=\"#555555\" stroke-width=\"0.0035325847703261103\" fill=\"#66cc99\" opacity=\"0.6\" /><circle cx=\"-73.95352200064022\" cy=\"40.68962700158444\" r=\"0.01059775431097833\" stroke=\"#555555\" stroke-width=\"0.0035325847703261103\" fill=\"#66cc99\" opacity=\"0.6\" /><circle cx=\"-73.95348800038457\" cy=\"40.706889998054\" r=\"0.01059775431097833\" stroke=\"#555555\" stroke-width=\"0.0035325847703261103\" fill=\"#66cc99\" opacity=\"0.6\" /><circle cx=\"-73.95323499978866\" cy=\"40.75917199967108\" r=\"0.01059775431097833\" stroke=\"#555555\" stroke-width=\"0.0035325847703261103\" fill=\"#66cc99\" opacity=\"0.6\" /><circle cx=\"-73.95224799734774\" cy=\"40.811071672994565\" r=\"0.01059775431097833\" stroke=\"#555555\" stroke-width=\"0.0035325847703261103\" fill=\"#66cc99\" opacity=\"0.6\" /><circle cx=\"-73.95182200176913\" cy=\"40.79907499977324\" r=\"0.01059775431097833\" stroke=\"#555555\" stroke-width=\"0.0035325847703261103\" fill=\"#66cc99\" opacity=\"0.6\" /><circle cx=\"-73.95177090964917\" cy=\"40.77786104333163\" r=\"0.01059775431097833\" stroke=\"#555555\" stroke-width=\"0.0035325847703261103\" fill=\"#66cc99\" opacity=\"0.6\" /><circle cx=\"-73.9514239994525\" cy=\"40.71277400073426\" r=\"0.01059775431097833\" stroke=\"#555555\" stroke-width=\"0.0035325847703261103\" fill=\"#66cc99\" opacity=\"0.6\" /><circle cx=\"-73.95118300016523\" cy=\"40.724479997808274\" r=\"0.01059775431097833\" stroke=\"#555555\" stroke-width=\"0.0035325847703261103\" fill=\"#66cc99\" opacity=\"0.6\" /><circle cx=\"-73.9510700015425\" cy=\"40.78567199998607\" r=\"0.01059775431097833\" stroke=\"#555555\" stroke-width=\"0.0035325847703261103\" fill=\"#66cc99\" opacity=\"0.6\" /><circle cx=\"-73.95072891124937\" cy=\"40.6627729934283\" r=\"0.01059775431097833\" stroke=\"#555555\" stroke-width=\"0.0035325847703261103\" fill=\"#66cc99\" opacity=\"0.6\" /><circle cx=\"-73.95058920022207\" cy=\"40.667883603536815\" r=\"0.01059775431097833\" stroke=\"#555555\" stroke-width=\"0.0035325847703261103\" fill=\"#66cc99\" opacity=\"0.6\" /><circle cx=\"-73.9504262489579\" cy=\"40.66993815093054\" r=\"0.01059775431097833\" stroke=\"#555555\" stroke-width=\"0.0035325847703261103\" fill=\"#66cc99\" opacity=\"0.6\" /><circle cx=\"-73.95042600099683\" cy=\"40.68043800006226\" r=\"0.01059775431097833\" stroke=\"#555555\" stroke-width=\"0.0035325847703261103\" fill=\"#66cc99\" opacity=\"0.6\" /><circle cx=\"-73.95035999879713\" cy=\"40.82655099962194\" r=\"0.01059775431097833\" stroke=\"#555555\" stroke-width=\"0.0035325847703261103\" fill=\"#66cc99\" opacity=\"0.6\" /><circle cx=\"-73.95031225606621\" cy=\"40.706126576274166\" r=\"0.01059775431097833\" stroke=\"#555555\" stroke-width=\"0.0035325847703261103\" fill=\"#66cc99\" opacity=\"0.6\" /><circle cx=\"-73.95024799996972\" cy=\"40.71407200064717\" r=\"0.01059775431097833\" stroke=\"#555555\" stroke-width=\"0.0035325847703261103\" fill=\"#66cc99\" opacity=\"0.6\" /><circle cx=\"-73.9502340010257\" cy=\"40.70037666622154\" r=\"0.01059775431097833\" stroke=\"#555555\" stroke-width=\"0.0035325847703261103\" fill=\"#66cc99\" opacity=\"0.6\" /><circle cx=\"-73.95007934590994\" cy=\"40.65665931376077\" r=\"0.01059775431097833\" stroke=\"#555555\" stroke-width=\"0.0035325847703261103\" fill=\"#66cc99\" opacity=\"0.6\" /><circle cx=\"-73.94962500096905\" cy=\"40.802097999133004\" r=\"0.01059775431097833\" stroke=\"#555555\" stroke-width=\"0.0035325847703261103\" fill=\"#66cc99\" opacity=\"0.6\" /><circle cx=\"-73.9495999997552\" cy=\"40.7441286664954\" r=\"0.01059775431097833\" stroke=\"#555555\" stroke-width=\"0.0035325847703261103\" fill=\"#66cc99\" opacity=\"0.6\" /><circle cx=\"-73.94945514035334\" cy=\"40.6508606878022\" r=\"0.01059775431097833\" stroke=\"#555555\" stroke-width=\"0.0035325847703261103\" fill=\"#66cc99\" opacity=\"0.6\" /><circle cx=\"-73.94906699890156\" cy=\"40.69461899903765\" r=\"0.01059775431097833\" stroke=\"#555555\" stroke-width=\"0.0035325847703261103\" fill=\"#66cc99\" opacity=\"0.6\" /><circle cx=\"-73.9489160009391\" cy=\"40.74221599986316\" r=\"0.01059775431097833\" stroke=\"#555555\" stroke-width=\"0.0035325847703261103\" fill=\"#66cc99\" opacity=\"0.6\" /><circle cx=\"-73.94884798381702\" cy=\"40.64512351894373\" r=\"0.01059775431097833\" stroke=\"#555555\" stroke-width=\"0.0035325847703261103\" fill=\"#66cc99\" opacity=\"0.6\" /><circle cx=\"-73.94829990822407\" cy=\"40.63999124275311\" r=\"0.01059775431097833\" stroke=\"#555555\" stroke-width=\"0.0035325847703261103\" fill=\"#66cc99\" opacity=\"0.6\" /><circle cx=\"-73.94754120734406\" cy=\"40.63284240700742\" r=\"0.01059775431097833\" stroke=\"#555555\" stroke-width=\"0.0035325847703261103\" fill=\"#66cc99\" opacity=\"0.6\" /><circle cx=\"-73.94753480879213\" cy=\"40.817905559212676\" r=\"0.01059775431097833\" stroke=\"#555555\" stroke-width=\"0.0035325847703261103\" fill=\"#66cc99\" opacity=\"0.6\" /><circle cx=\"-73.94747800152219\" cy=\"40.79060000008452\" r=\"0.01059775431097833\" stroke=\"#555555\" stroke-width=\"0.0035325847703261103\" fill=\"#66cc99\" opacity=\"0.6\" /><circle cx=\"-73.94735499884204\" cy=\"40.703844000042096\" r=\"0.01059775431097833\" stroke=\"#555555\" stroke-width=\"0.0035325847703261103\" fill=\"#66cc99\" opacity=\"0.6\" /><circle cx=\"-73.9470660219183\" cy=\"40.784236650177654\" r=\"0.01059775431097833\" stroke=\"#555555\" stroke-width=\"0.0035325847703261103\" fill=\"#66cc99\" opacity=\"0.6\" /><circle cx=\"-73.94605470266329\" cy=\"40.747768121414325\" r=\"0.01059775431097833\" stroke=\"#555555\" stroke-width=\"0.0035325847703261103\" fill=\"#66cc99\" opacity=\"0.6\" /><circle cx=\"-73.94549500011411\" cy=\"40.807753999182815\" r=\"0.01059775431097833\" stroke=\"#555555\" stroke-width=\"0.0035325847703261103\" fill=\"#66cc99\" opacity=\"0.6\" /><circle cx=\"-73.94526400039679\" cy=\"40.74702299889643\" r=\"0.01059775431097833\" stroke=\"#555555\" stroke-width=\"0.0035325847703261103\" fill=\"#66cc99\" opacity=\"0.6\" /><circle cx=\"-73.94488999901047\" cy=\"40.8340410001399\" r=\"0.01059775431097833\" stroke=\"#555555\" stroke-width=\"0.0035325847703261103\" fill=\"#66cc99\" opacity=\"0.6\" /><circle cx=\"-73.94424999687163\" cy=\"40.795020000113105\" r=\"0.01059775431097833\" stroke=\"#555555\" stroke-width=\"0.0035325847703261103\" fill=\"#66cc99\" opacity=\"0.6\" /><circle cx=\"-73.94408792823116\" cy=\"40.824766360871905\" r=\"0.01059775431097833\" stroke=\"#555555\" stroke-width=\"0.0035325847703261103\" fill=\"#66cc99\" opacity=\"0.6\" /><circle cx=\"-73.94394399869037\" cy=\"40.714575998363635\" r=\"0.01059775431097833\" stroke=\"#555555\" stroke-width=\"0.0035325847703261103\" fill=\"#66cc99\" opacity=\"0.6\" /><circle cx=\"-73.94381559597835\" cy=\"40.74630503357145\" r=\"0.01059775431097833\" stroke=\"#555555\" stroke-width=\"0.0035325847703261103\" fill=\"#66cc99\" opacity=\"0.6\" /><circle cx=\"-73.94215978392963\" cy=\"40.66948144864978\" r=\"0.01059775431097833\" stroke=\"#555555\" stroke-width=\"0.0035325847703261103\" fill=\"#66cc99\" opacity=\"0.6\" /><circle cx=\"-73.94193761457447\" cy=\"40.75373927087553\" r=\"0.01059775431097833\" stroke=\"#555555\" stroke-width=\"0.0035325847703261103\" fill=\"#66cc99\" opacity=\"0.6\" /><circle cx=\"-73.9416169983714\" cy=\"40.7986290002001\" r=\"0.01059775431097833\" stroke=\"#555555\" stroke-width=\"0.0035325847703261103\" fill=\"#66cc99\" opacity=\"0.6\" /><circle cx=\"-73.94151400082208\" cy=\"40.83051799929251\" r=\"0.01059775431097833\" stroke=\"#555555\" stroke-width=\"0.0035325847703261103\" fill=\"#66cc99\" opacity=\"0.6\" /><circle cx=\"-73.94137734838365\" cy=\"40.70040440298112\" r=\"0.01059775431097833\" stroke=\"#555555\" stroke-width=\"0.0035325847703261103\" fill=\"#66cc99\" opacity=\"0.6\" /><circle cx=\"-73.94085899871263\" cy=\"40.67991899941601\" r=\"0.01059775431097833\" stroke=\"#555555\" stroke-width=\"0.0035325847703261103\" fill=\"#66cc99\" opacity=\"0.6\" /><circle cx=\"-73.94077000106708\" cy=\"40.8142290003391\" r=\"0.01059775431097833\" stroke=\"#555555\" stroke-width=\"0.0035325847703261103\" fill=\"#66cc99\" opacity=\"0.6\" /><circle cx=\"-73.94049699874644\" cy=\"40.71157600064823\" r=\"0.01059775431097833\" stroke=\"#555555\" stroke-width=\"0.0035325847703261103\" fill=\"#66cc99\" opacity=\"0.6\" /><circle cx=\"-73.9401635351909\" cy=\"40.750635651014804\" r=\"0.01059775431097833\" stroke=\"#555555\" stroke-width=\"0.0035325847703261103\" fill=\"#66cc99\" opacity=\"0.6\" /><circle cx=\"-73.94013299907257\" cy=\"40.840555999148535\" r=\"0.01059775431097833\" stroke=\"#555555\" stroke-width=\"0.0035325847703261103\" fill=\"#66cc99\" opacity=\"0.6\" /><circle cx=\"-73.93989200188344\" cy=\"40.83601299923096\" r=\"0.01059775431097833\" stroke=\"#555555\" stroke-width=\"0.0035325847703261103\" fill=\"#66cc99\" opacity=\"0.6\" /><circle cx=\"-73.93979284713505\" cy=\"40.70739106438455\" r=\"0.01059775431097833\" stroke=\"#555555\" stroke-width=\"0.0035325847703261103\" fill=\"#66cc99\" opacity=\"0.6\" /><circle cx=\"-73.93970399761596\" cy=\"40.84739100072403\" r=\"0.01059775431097833\" stroke=\"#555555\" stroke-width=\"0.0035325847703261103\" fill=\"#66cc99\" opacity=\"0.6\" /><circle cx=\"-73.93956099985425\" cy=\"40.84071899990795\" r=\"0.01059775431097833\" stroke=\"#555555\" stroke-width=\"0.0035325847703261103\" fill=\"#66cc99\" opacity=\"0.6\" /><circle cx=\"-73.93820899811622\" cy=\"40.8301349999812\" r=\"0.01059775431097833\" stroke=\"#555555\" stroke-width=\"0.0035325847703261103\" fill=\"#66cc99\" opacity=\"0.6\" /><circle cx=\"-73.93796900205011\" cy=\"40.851694999744616\" r=\"0.01059775431097833\" stroke=\"#555555\" stroke-width=\"0.0035325847703261103\" fill=\"#66cc99\" opacity=\"0.6\" /><circle cx=\"-73.93759400055725\" cy=\"40.804138000587244\" r=\"0.01059775431097833\" stroke=\"#555555\" stroke-width=\"0.0035325847703261103\" fill=\"#66cc99\" opacity=\"0.6\" /><circle cx=\"-73.93713823965695\" cy=\"40.74891771986323\" r=\"0.01059775431097833\" stroke=\"#555555\" stroke-width=\"0.0035325847703261103\" fill=\"#66cc99\" opacity=\"0.6\" /><circle cx=\"-73.93647000005559\" cy=\"40.82388000080457\" r=\"0.01059775431097833\" stroke=\"#555555\" stroke-width=\"0.0035325847703261103\" fill=\"#66cc99\" opacity=\"0.6\" /><circle cx=\"-73.93624499873299\" cy=\"40.82042099969279\" r=\"0.01059775431097833\" stroke=\"#555555\" stroke-width=\"0.0035325847703261103\" fill=\"#66cc99\" opacity=\"0.6\" /><circle cx=\"-73.9356230012996\" cy=\"40.6971950005145\" r=\"0.01059775431097833\" stroke=\"#555555\" stroke-width=\"0.0035325847703261103\" fill=\"#66cc99\" opacity=\"0.6\" /><circle cx=\"-73.93417999964333\" cy=\"40.85902199892482\" r=\"0.01059775431097833\" stroke=\"#555555\" stroke-width=\"0.0035325847703261103\" fill=\"#66cc99\" opacity=\"0.6\" /><circle cx=\"-73.9335959996056\" cy=\"40.84950499974065\" r=\"0.01059775431097833\" stroke=\"#555555\" stroke-width=\"0.0035325847703261103\" fill=\"#66cc99\" opacity=\"0.6\" /><circle cx=\"-73.93314700024209\" cy=\"40.70615166680729\" r=\"0.01059775431097833\" stroke=\"#555555\" stroke-width=\"0.0035325847703261103\" fill=\"#66cc99\" opacity=\"0.6\" /><circle cx=\"-73.93293256081851\" cy=\"40.66897831107809\" r=\"0.01059775431097833\" stroke=\"#555555\" stroke-width=\"0.0035325847703261103\" fill=\"#66cc99\" opacity=\"0.6\" /><circle cx=\"-73.93285137679598\" cy=\"40.75276306140845\" r=\"0.01059775431097833\" stroke=\"#555555\" stroke-width=\"0.0035325847703261103\" fill=\"#66cc99\" opacity=\"0.6\" /><circle cx=\"-73.93099699953838\" cy=\"40.74458699983993\" r=\"0.01059775431097833\" stroke=\"#555555\" stroke-width=\"0.0035325847703261103\" fill=\"#66cc99\" opacity=\"0.6\" /><circle cx=\"-73.93072899914027\" cy=\"40.67936399950546\" r=\"0.01059775431097833\" stroke=\"#555555\" stroke-width=\"0.0035325847703261103\" fill=\"#66cc99\" opacity=\"0.6\" /><circle cx=\"-73.929861999118\" cy=\"40.7564420005104\" r=\"0.01059775431097833\" stroke=\"#555555\" stroke-width=\"0.0035325847703261103\" fill=\"#66cc99\" opacity=\"0.6\" /><circle cx=\"-73.92984899935611\" cy=\"40.81322399958908\" r=\"0.01059775431097833\" stroke=\"#555555\" stroke-width=\"0.0035325847703261103\" fill=\"#66cc99\" opacity=\"0.6\" /><circle cx=\"-73.92941199742039\" cy=\"40.85522500175836\" r=\"0.01059775431097833\" stroke=\"#555555\" stroke-width=\"0.0035325847703261103\" fill=\"#66cc99\" opacity=\"0.6\" /><circle cx=\"-73.92901818461539\" cy=\"40.75196004401078\" r=\"0.01059775431097833\" stroke=\"#555555\" stroke-width=\"0.0035325847703261103\" fill=\"#66cc99\" opacity=\"0.6\" /><circle cx=\"-73.92850899927413\" cy=\"40.69317200129202\" r=\"0.01059775431097833\" stroke=\"#555555\" stroke-width=\"0.0035325847703261103\" fill=\"#66cc99\" opacity=\"0.6\" /><circle cx=\"-73.9273847542618\" cy=\"40.81830344372315\" r=\"0.01059775431097833\" stroke=\"#555555\" stroke-width=\"0.0035325847703261103\" fill=\"#66cc99\" opacity=\"0.6\" /><circle cx=\"-73.92727099960726\" cy=\"40.865490998968916\" r=\"0.01059775431097833\" stroke=\"#555555\" stroke-width=\"0.0035325847703261103\" fill=\"#66cc99\" opacity=\"0.6\" /><circle cx=\"-73.92724299902838\" cy=\"40.69787300011831\" r=\"0.01059775431097833\" stroke=\"#555555\" stroke-width=\"0.0035325847703261103\" fill=\"#66cc99\" opacity=\"0.6\" /><circle cx=\"-73.92672247438611\" cy=\"40.81833014409742\" r=\"0.01059775431097833\" stroke=\"#555555\" stroke-width=\"0.0035325847703261103\" fill=\"#66cc99\" opacity=\"0.6\" /><circle cx=\"-73.92613800014134\" cy=\"40.81047600117261\" r=\"0.01059775431097833\" stroke=\"#555555\" stroke-width=\"0.0035325847703261103\" fill=\"#66cc99\" opacity=\"0.6\" /><circle cx=\"-73.92582299919906\" cy=\"40.761431998800546\" r=\"0.01059775431097833\" stroke=\"#555555\" stroke-width=\"0.0035325847703261103\" fill=\"#66cc99\" opacity=\"0.6\" /><circle cx=\"-73.92569199505733\" cy=\"40.82823032742169\" r=\"0.01059775431097833\" stroke=\"#555555\" stroke-width=\"0.0035325847703261103\" fill=\"#66cc99\" opacity=\"0.6\" /><circle cx=\"-73.92565099775477\" cy=\"40.827904998845845\" r=\"0.01059775431097833\" stroke=\"#555555\" stroke-width=\"0.0035325847703261103\" fill=\"#66cc99\" opacity=\"0.6\" /><circle cx=\"-73.92553600006474\" cy=\"40.86053100138796\" r=\"0.01059775431097833\" stroke=\"#555555\" stroke-width=\"0.0035325847703261103\" fill=\"#66cc99\" opacity=\"0.6\" /><circle cx=\"-73.9240159984882\" cy=\"40.74378100149132\" r=\"0.01059775431097833\" stroke=\"#555555\" stroke-width=\"0.0035325847703261103\" fill=\"#66cc99\" opacity=\"0.6\" /><circle cx=\"-73.9229130000312\" cy=\"40.706606665988716\" r=\"0.01059775431097833\" stroke=\"#555555\" stroke-width=\"0.0035325847703261103\" fill=\"#66cc99\" opacity=\"0.6\" /><circle cx=\"-73.92252118536001\" cy=\"40.66476678877493\" r=\"0.01059775431097833\" stroke=\"#555555\" stroke-width=\"0.0035325847703261103\" fill=\"#66cc99\" opacity=\"0.6\" /><circle cx=\"-73.92215600150752\" cy=\"40.689583999013905\" r=\"0.01059775431097833\" stroke=\"#555555\" stroke-width=\"0.0035325847703261103\" fill=\"#66cc99\" opacity=\"0.6\" /><circle cx=\"-73.9214790001739\" cy=\"40.76677866673298\" r=\"0.01059775431097833\" stroke=\"#555555\" stroke-width=\"0.0035325847703261103\" fill=\"#66cc99\" opacity=\"0.6\" /><circle cx=\"-73.92139999784426\" cy=\"40.83553699933672\" r=\"0.01059775431097833\" stroke=\"#555555\" stroke-width=\"0.0035325847703261103\" fill=\"#66cc99\" opacity=\"0.6\" /><circle cx=\"-73.92078599933306\" cy=\"40.678822000873375\" r=\"0.01059775431097833\" stroke=\"#555555\" stroke-width=\"0.0035325847703261103\" fill=\"#66cc99\" opacity=\"0.6\" /><circle cx=\"-73.9205264716827\" cy=\"40.75698735912575\" r=\"0.01059775431097833\" stroke=\"#555555\" stroke-width=\"0.0035325847703261103\" fill=\"#66cc99\" opacity=\"0.6\" /><circle cx=\"-73.91989900100465\" cy=\"40.86807199999737\" r=\"0.01059775431097833\" stroke=\"#555555\" stroke-width=\"0.0035325847703261103\" fill=\"#66cc99\" opacity=\"0.6\" /><circle cx=\"-73.91972000188625\" cy=\"40.69866000123805\" r=\"0.01059775431097833\" stroke=\"#555555\" stroke-width=\"0.0035325847703261103\" fill=\"#66cc99\" opacity=\"0.6\" /><circle cx=\"-73.91923999909432\" cy=\"40.80756599987699\" r=\"0.01059775431097833\" stroke=\"#555555\" stroke-width=\"0.0035325847703261103\" fill=\"#66cc99\" opacity=\"0.6\" /><circle cx=\"-73.91881900132312\" cy=\"40.864614000525854\" r=\"0.01059775431097833\" stroke=\"#555555\" stroke-width=\"0.0035325847703261103\" fill=\"#66cc99\" opacity=\"0.6\" /><circle cx=\"-73.91843500103973\" cy=\"40.74313200060382\" r=\"0.01059775431097833\" stroke=\"#555555\" stroke-width=\"0.0035325847703261103\" fill=\"#66cc99\" opacity=\"0.6\" /><circle cx=\"-73.91843200082253\" cy=\"40.83376899862797\" r=\"0.01059775431097833\" stroke=\"#555555\" stroke-width=\"0.0035325847703261103\" fill=\"#66cc99\" opacity=\"0.6\" /><circle cx=\"-73.91823200219723\" cy=\"40.70369299961644\" r=\"0.01059775431097833\" stroke=\"#555555\" stroke-width=\"0.0035325847703261103\" fill=\"#66cc99\" opacity=\"0.6\" /><circle cx=\"-73.91809500109238\" cy=\"40.77003699949086\" r=\"0.01059775431097833\" stroke=\"#555555\" stroke-width=\"0.0035325847703261103\" fill=\"#66cc99\" opacity=\"0.6\" /><circle cx=\"-73.91779152760981\" cy=\"40.816029252510006\" r=\"0.01059775431097833\" stroke=\"#555555\" stroke-width=\"0.0035325847703261103\" fill=\"#66cc99\" opacity=\"0.6\" /><circle cx=\"-73.91779099745928\" cy=\"40.84007499993004\" r=\"0.01059775431097833\" stroke=\"#555555\" stroke-width=\"0.0035325847703261103\" fill=\"#66cc99\" opacity=\"0.6\" /><circle cx=\"-73.9166388842194\" cy=\"40.686415270704344\" r=\"0.01059775431097833\" stroke=\"#555555\" stroke-width=\"0.0035325847703261103\" fill=\"#66cc99\" opacity=\"0.6\" /><circle cx=\"-73.91633025007947\" cy=\"40.6615297898075\" r=\"0.01059775431097833\" stroke=\"#555555\" stroke-width=\"0.0035325847703261103\" fill=\"#66cc99\" opacity=\"0.6\" /><circle cx=\"-73.91527899954356\" cy=\"40.86944399946045\" r=\"0.01059775431097833\" stroke=\"#555555\" stroke-width=\"0.0035325847703261103\" fill=\"#66cc99\" opacity=\"0.6\" /><circle cx=\"-73.9146849986034\" cy=\"40.84443400092679\" r=\"0.01059775431097833\" stroke=\"#555555\" stroke-width=\"0.0035325847703261103\" fill=\"#66cc99\" opacity=\"0.6\" /><circle cx=\"-73.91404199994753\" cy=\"40.8053680007636\" r=\"0.01059775431097833\" stroke=\"#555555\" stroke-width=\"0.0035325847703261103\" fill=\"#66cc99\" opacity=\"0.6\" /><circle cx=\"-73.91352174995538\" cy=\"40.756316952608096\" r=\"0.01059775431097833\" stroke=\"#555555\" stroke-width=\"0.0035325847703261103\" fill=\"#66cc99\" opacity=\"0.6\" /><circle cx=\"-73.91339999846983\" cy=\"40.83930599964156\" r=\"0.01059775431097833\" stroke=\"#555555\" stroke-width=\"0.0035325847703261103\" fill=\"#66cc99\" opacity=\"0.6\" /><circle cx=\"-73.91254899891254\" cy=\"40.744149001021576\" r=\"0.01059775431097833\" stroke=\"#555555\" stroke-width=\"0.0035325847703261103\" fill=\"#66cc99\" opacity=\"0.6\" /><circle cx=\"-73.91217899939602\" cy=\"40.69945400090837\" r=\"0.01059775431097833\" stroke=\"#555555\" stroke-width=\"0.0035325847703261103\" fill=\"#66cc99\" opacity=\"0.6\" /><circle cx=\"-73.9120340001031\" cy=\"40.775035666523664\" r=\"0.01059775431097833\" stroke=\"#555555\" stroke-width=\"0.0035325847703261103\" fill=\"#66cc99\" opacity=\"0.6\" /><circle cx=\"-73.91194599726617\" cy=\"40.678339999883505\" r=\"0.01059775431097833\" stroke=\"#555555\" stroke-width=\"0.0035325847703261103\" fill=\"#66cc99\" opacity=\"0.6\" /><circle cx=\"-73.91179399884471\" cy=\"40.8484800012369\" r=\"0.01059775431097833\" stroke=\"#555555\" stroke-width=\"0.0035325847703261103\" fill=\"#66cc99\" opacity=\"0.6\" /><circle cx=\"-73.9109757182647\" cy=\"40.699471062427136\" r=\"0.01059775431097833\" stroke=\"#555555\" stroke-width=\"0.0035325847703261103\" fill=\"#66cc99\" opacity=\"0.6\" /><circle cx=\"-73.91038357033376\" cy=\"40.68285130087804\" r=\"0.01059775431097833\" stroke=\"#555555\" stroke-width=\"0.0035325847703261103\" fill=\"#66cc99\" opacity=\"0.6\" /><circle cx=\"-73.91013600050078\" cy=\"40.84589999983414\" r=\"0.01059775431097833\" stroke=\"#555555\" stroke-width=\"0.0035325847703261103\" fill=\"#66cc99\" opacity=\"0.6\" /><circle cx=\"-73.90983099923551\" cy=\"40.87456099941789\" r=\"0.01059775431097833\" stroke=\"#555555\" stroke-width=\"0.0035325847703261103\" fill=\"#66cc99\" opacity=\"0.6\" /><circle cx=\"-73.90895833584449\" cy=\"40.66261748815223\" r=\"0.01059775431097833\" stroke=\"#555555\" stroke-width=\"0.0035325847703261103\" fill=\"#66cc99\" opacity=\"0.6\" /><circle cx=\"-73.9077019387083\" cy=\"40.81643746686396\" r=\"0.01059775431097833\" stroke=\"#555555\" stroke-width=\"0.0035325847703261103\" fill=\"#66cc99\" opacity=\"0.6\" /><circle cx=\"-73.9076840015997\" cy=\"40.85345300155693\" r=\"0.01059775431097833\" stroke=\"#555555\" stroke-width=\"0.0035325847703261103\" fill=\"#66cc99\" opacity=\"0.6\" /><circle cx=\"-73.90765699936489\" cy=\"40.80871900090143\" r=\"0.01059775431097833\" stroke=\"#555555\" stroke-width=\"0.0035325847703261103\" fill=\"#66cc99\" opacity=\"0.6\" /><circle cx=\"-73.90758199885423\" cy=\"40.70291899894902\" r=\"0.01059775431097833\" stroke=\"#555555\" stroke-width=\"0.0035325847703261103\" fill=\"#66cc99\" opacity=\"0.6\" /><circle cx=\"-73.90606508052358\" cy=\"40.752824829236076\" r=\"0.01059775431097833\" stroke=\"#555555\" stroke-width=\"0.0035325847703261103\" fill=\"#66cc99\" opacity=\"0.6\" /><circle cx=\"-73.90531600055341\" cy=\"40.67833366608023\" r=\"0.01059775431097833\" stroke=\"#555555\" stroke-width=\"0.0035325847703261103\" fill=\"#66cc99\" opacity=\"0.6\" /><circle cx=\"-73.90526176305106\" cy=\"40.68286062551184\" r=\"0.01059775431097833\" stroke=\"#555555\" stroke-width=\"0.0035325847703261103\" fill=\"#66cc99\" opacity=\"0.6\" /><circle cx=\"-73.90522700122354\" cy=\"40.850409999510234\" r=\"0.01059775431097833\" stroke=\"#555555\" stroke-width=\"0.0035325847703261103\" fill=\"#66cc99\" opacity=\"0.6\" /><circle cx=\"-73.90483400107873\" cy=\"40.87885599817935\" r=\"0.01059775431097833\" stroke=\"#555555\" stroke-width=\"0.0035325847703261103\" fill=\"#66cc99\" opacity=\"0.6\" /><circle cx=\"-73.90428999746412\" cy=\"40.67936600147369\" r=\"0.01059775431097833\" stroke=\"#555555\" stroke-width=\"0.0035325847703261103\" fill=\"#66cc99\" opacity=\"0.6\" /><circle cx=\"-73.90409799875945\" cy=\"40.81211799827203\" r=\"0.01059775431097833\" stroke=\"#555555\" stroke-width=\"0.0035325847703261103\" fill=\"#66cc99\" opacity=\"0.6\" /><circle cx=\"-73.90395860491864\" cy=\"40.68886654246024\" r=\"0.01059775431097833\" stroke=\"#555555\" stroke-width=\"0.0035325847703261103\" fill=\"#66cc99\" opacity=\"0.6\" /><circle cx=\"-73.90393400118631\" cy=\"40.69551800114878\" r=\"0.01059775431097833\" stroke=\"#555555\" stroke-width=\"0.0035325847703261103\" fill=\"#66cc99\" opacity=\"0.6\" /><circle cx=\"-73.90387900151532\" cy=\"40.85840700040842\" r=\"0.01059775431097833\" stroke=\"#555555\" stroke-width=\"0.0035325847703261103\" fill=\"#66cc99\" opacity=\"0.6\" /><circle cx=\"-73.90311757920684\" cy=\"40.67845624842869\" r=\"0.01059775431097833\" stroke=\"#555555\" stroke-width=\"0.0035325847703261103\" fill=\"#66cc99\" opacity=\"0.6\" /><circle cx=\"-73.9030969995401\" cy=\"40.67534466640805\" r=\"0.01059775431097833\" stroke=\"#555555\" stroke-width=\"0.0035325847703261103\" fill=\"#66cc99\" opacity=\"0.6\" /><circle cx=\"-73.90307500005954\" cy=\"40.70441200087814\" r=\"0.01059775431097833\" stroke=\"#555555\" stroke-width=\"0.0035325847703261103\" fill=\"#66cc99\" opacity=\"0.6\" /><circle cx=\"-73.90298400173006\" cy=\"40.745630001138395\" r=\"0.01059775431097833\" stroke=\"#555555\" stroke-width=\"0.0035325847703261103\" fill=\"#66cc99\" opacity=\"0.6\" /><circle cx=\"-73.90244864183562\" cy=\"40.66358900181724\" r=\"0.01059775431097833\" stroke=\"#555555\" stroke-width=\"0.0035325847703261103\" fill=\"#66cc99\" opacity=\"0.6\" /><circle cx=\"-73.9019160004208\" cy=\"40.66914500061398\" r=\"0.01059775431097833\" stroke=\"#555555\" stroke-width=\"0.0035325847703261103\" fill=\"#66cc99\" opacity=\"0.6\" /><circle cx=\"-73.90185000017287\" cy=\"40.64665366739528\" r=\"0.01059775431097833\" stroke=\"#555555\" stroke-width=\"0.0035325847703261103\" fill=\"#66cc99\" opacity=\"0.6\" /><circle cx=\"-73.90177778730917\" cy=\"40.81948726483844\" r=\"0.01059775431097833\" stroke=\"#555555\" stroke-width=\"0.0035325847703261103\" fill=\"#66cc99\" opacity=\"0.6\" /><circle cx=\"-73.90103399921699\" cy=\"40.86280299988937\" r=\"0.01059775431097833\" stroke=\"#555555\" stroke-width=\"0.0035325847703261103\" fill=\"#66cc99\" opacity=\"0.6\" /><circle cx=\"-73.90087000018522\" cy=\"40.88466700064975\" r=\"0.01059775431097833\" stroke=\"#555555\" stroke-width=\"0.0035325847703261103\" fill=\"#66cc99\" opacity=\"0.6\" /><circle cx=\"-73.90074099998965\" cy=\"40.85609299881864\" r=\"0.01059775431097833\" stroke=\"#555555\" stroke-width=\"0.0035325847703261103\" fill=\"#66cc99\" opacity=\"0.6\" /><circle cx=\"-73.90056237226057\" cy=\"40.66405727094644\" r=\"0.01059775431097833\" stroke=\"#555555\" stroke-width=\"0.0035325847703261103\" fill=\"#66cc99\" opacity=\"0.6\" /><circle cx=\"-73.89954769388724\" cy=\"40.65046878544699\" r=\"0.01059775431097833\" stroke=\"#555555\" stroke-width=\"0.0035325847703261103\" fill=\"#66cc99\" opacity=\"0.6\" /><circle cx=\"-73.89927796057142\" cy=\"40.65891477368527\" r=\"0.01059775431097833\" stroke=\"#555555\" stroke-width=\"0.0035325847703261103\" fill=\"#66cc99\" opacity=\"0.6\" /><circle cx=\"-73.8987883783301\" cy=\"40.74971952935675\" r=\"0.01059775431097833\" stroke=\"#555555\" stroke-width=\"0.0035325847703261103\" fill=\"#66cc99\" opacity=\"0.6\" /><circle cx=\"-73.89858300049647\" cy=\"40.88924800011476\" r=\"0.01059775431097833\" stroke=\"#555555\" stroke-width=\"0.0035325847703261103\" fill=\"#66cc99\" opacity=\"0.6\" /><circle cx=\"-73.89852600159652\" cy=\"40.676998000003756\" r=\"0.01059775431097833\" stroke=\"#555555\" stroke-width=\"0.0035325847703261103\" fill=\"#66cc99\" opacity=\"0.6\" /><circle cx=\"-73.89774900102401\" cy=\"40.861295998683495\" r=\"0.01059775431097833\" stroke=\"#555555\" stroke-width=\"0.0035325847703261103\" fill=\"#66cc99\" opacity=\"0.6\" /><circle cx=\"-73.89717400101743\" cy=\"40.867760000885795\" r=\"0.01059775431097833\" stroke=\"#555555\" stroke-width=\"0.0035325847703261103\" fill=\"#66cc99\" opacity=\"0.6\" /><circle cx=\"-73.89661738461646\" cy=\"40.822142131170786\" r=\"0.01059775431097833\" stroke=\"#555555\" stroke-width=\"0.0035325847703261103\" fill=\"#66cc99\" opacity=\"0.6\" /><circle cx=\"-73.89654800103929\" cy=\"40.67454199987086\" r=\"0.01059775431097833\" stroke=\"#555555\" stroke-width=\"0.0035325847703261103\" fill=\"#66cc99\" opacity=\"0.6\" /><circle cx=\"-73.89643499897414\" cy=\"40.816103999972405\" r=\"0.01059775431097833\" stroke=\"#555555\" stroke-width=\"0.0035325847703261103\" fill=\"#66cc99\" opacity=\"0.6\" /><circle cx=\"-73.8964029993185\" cy=\"40.746324999410284\" r=\"0.01059775431097833\" stroke=\"#555555\" stroke-width=\"0.0035325847703261103\" fill=\"#66cc99\" opacity=\"0.6\" /><circle cx=\"-73.8958980017196\" cy=\"40.70622599823048\" r=\"0.01059775431097833\" stroke=\"#555555\" stroke-width=\"0.0035325847703261103\" fill=\"#66cc99\" opacity=\"0.6\" /><circle cx=\"-73.89488591154061\" cy=\"40.66471445143568\" r=\"0.01059775431097833\" stroke=\"#555555\" stroke-width=\"0.0035325847703261103\" fill=\"#66cc99\" opacity=\"0.6\" /><circle cx=\"-73.8935090000331\" cy=\"40.86697799999945\" r=\"0.01059775431097833\" stroke=\"#555555\" stroke-width=\"0.0035325847703261103\" fill=\"#66cc99\" opacity=\"0.6\" /><circle cx=\"-73.89306639507903\" cy=\"40.823976841237396\" r=\"0.01059775431097833\" stroke=\"#555555\" stroke-width=\"0.0035325847703261103\" fill=\"#66cc99\" opacity=\"0.6\" /><circle cx=\"-73.89175225349464\" cy=\"40.829987446384116\" r=\"0.01059775431097833\" stroke=\"#555555\" stroke-width=\"0.0035325847703261103\" fill=\"#66cc99\" opacity=\"0.6\" /><circle cx=\"-73.89165772702445\" cy=\"40.67802821447783\" r=\"0.01059775431097833\" stroke=\"#555555\" stroke-width=\"0.0035325847703261103\" fill=\"#66cc99\" opacity=\"0.6\" /><circle cx=\"-73.89129866519697\" cy=\"40.74653969115889\" r=\"0.01059775431097833\" stroke=\"#555555\" stroke-width=\"0.0035325847703261103\" fill=\"#66cc99\" opacity=\"0.6\" /><circle cx=\"-73.8912051289911\" cy=\"40.746867573829114\" r=\"0.01059775431097833\" stroke=\"#555555\" stroke-width=\"0.0035325847703261103\" fill=\"#66cc99\" opacity=\"0.6\" /><circle cx=\"-73.89054900017344\" cy=\"40.82094799852307\" r=\"0.01059775431097833\" stroke=\"#555555\" stroke-width=\"0.0035325847703261103\" fill=\"#66cc99\" opacity=\"0.6\" /><circle cx=\"-73.8903580002471\" cy=\"40.67270999906104\" r=\"0.01059775431097833\" stroke=\"#555555\" stroke-width=\"0.0035325847703261103\" fill=\"#66cc99\" opacity=\"0.6\" /><circle cx=\"-73.89006400069478\" cy=\"40.87341199980121\" r=\"0.01059775431097833\" stroke=\"#555555\" stroke-width=\"0.0035325847703261103\" fill=\"#66cc99\" opacity=\"0.6\" /><circle cx=\"-73.88957722978091\" cy=\"40.711431305058255\" r=\"0.01059775431097833\" stroke=\"#555555\" stroke-width=\"0.0035325847703261103\" fill=\"#66cc99\" opacity=\"0.6\" /><circle cx=\"-73.88940491730106\" cy=\"40.665517963059635\" r=\"0.01059775431097833\" stroke=\"#555555\" stroke-width=\"0.0035325847703261103\" fill=\"#66cc99\" opacity=\"0.6\" /><circle cx=\"-73.88769359812888\" cy=\"40.837195550170605\" r=\"0.01059775431097833\" stroke=\"#555555\" stroke-width=\"0.0035325847703261103\" fill=\"#66cc99\" opacity=\"0.6\" /><circle cx=\"-73.88713799889574\" cy=\"40.87324399861646\" r=\"0.01059775431097833\" stroke=\"#555555\" stroke-width=\"0.0035325847703261103\" fill=\"#66cc99\" opacity=\"0.6\" /><circle cx=\"-73.8862829985325\" cy=\"40.82652500055904\" r=\"0.01059775431097833\" stroke=\"#555555\" stroke-width=\"0.0035325847703261103\" fill=\"#66cc99\" opacity=\"0.6\" /><circle cx=\"-73.8851940021643\" cy=\"40.679777998961164\" r=\"0.01059775431097833\" stroke=\"#555555\" stroke-width=\"0.0035325847703261103\" fill=\"#66cc99\" opacity=\"0.6\" /><circle cx=\"-73.88465499988732\" cy=\"40.87974999947229\" r=\"0.01059775431097833\" stroke=\"#555555\" stroke-width=\"0.0035325847703261103\" fill=\"#66cc99\" opacity=\"0.6\" /><circle cx=\"-73.88411070800329\" cy=\"40.6663149325969\" r=\"0.01059775431097833\" stroke=\"#555555\" stroke-width=\"0.0035325847703261103\" fill=\"#66cc99\" opacity=\"0.6\" /><circle cx=\"-73.88369700071884\" cy=\"40.747658999559135\" r=\"0.01059775431097833\" stroke=\"#555555\" stroke-width=\"0.0035325847703261103\" fill=\"#66cc99\" opacity=\"0.6\" /><circle cx=\"-73.8820347465864\" cy=\"40.74237007972169\" r=\"0.01059775431097833\" stroke=\"#555555\" stroke-width=\"0.0035325847703261103\" fill=\"#66cc99\" opacity=\"0.6\" /><circle cx=\"-73.88074999747269\" cy=\"40.6741300014559\" r=\"0.01059775431097833\" stroke=\"#555555\" stroke-width=\"0.0035325847703261103\" fill=\"#66cc99\" opacity=\"0.6\" /><circle cx=\"-73.87996127877184\" cy=\"40.84020763241799\" r=\"0.01059775431097833\" stroke=\"#555555\" stroke-width=\"0.0035325847703261103\" fill=\"#66cc99\" opacity=\"0.6\" /><circle cx=\"-73.87962599910783\" cy=\"40.68152000045683\" r=\"0.01059775431097833\" stroke=\"#555555\" stroke-width=\"0.0035325847703261103\" fill=\"#66cc99\" opacity=\"0.6\" /><circle cx=\"-73.87915899874777\" cy=\"40.82858400108929\" r=\"0.01059775431097833\" stroke=\"#555555\" stroke-width=\"0.0035325847703261103\" fill=\"#66cc99\" opacity=\"0.6\" /><circle cx=\"-73.87885499918691\" cy=\"40.87481100011182\" r=\"0.01059775431097833\" stroke=\"#555555\" stroke-width=\"0.0035325847703261103\" fill=\"#66cc99\" opacity=\"0.6\" /><circle cx=\"-73.87875099990931\" cy=\"40.886037000253324\" r=\"0.01059775431097833\" stroke=\"#555555\" stroke-width=\"0.0035325847703261103\" fill=\"#66cc99\" opacity=\"0.6\" /><circle cx=\"-73.87722085669182\" cy=\"40.736813418197144\" r=\"0.01059775431097833\" stroke=\"#555555\" stroke-width=\"0.0035325847703261103\" fill=\"#66cc99\" opacity=\"0.6\" /><circle cx=\"-73.87661299986985\" cy=\"40.74840800060913\" r=\"0.01059775431097833\" stroke=\"#555555\" stroke-width=\"0.0035325847703261103\" fill=\"#66cc99\" opacity=\"0.6\" /><circle cx=\"-73.87451599929486\" cy=\"40.82952100156747\" r=\"0.01059775431097833\" stroke=\"#555555\" stroke-width=\"0.0035325847703261103\" fill=\"#66cc99\" opacity=\"0.6\" /><circle cx=\"-73.87392925215778\" cy=\"40.68315265707736\" r=\"0.01059775431097833\" stroke=\"#555555\" stroke-width=\"0.0035325847703261103\" fill=\"#66cc99\" opacity=\"0.6\" /><circle cx=\"-73.87334609510884\" cy=\"40.8418630412186\" r=\"0.01059775431097833\" stroke=\"#555555\" stroke-width=\"0.0035325847703261103\" fill=\"#66cc99\" opacity=\"0.6\" /><circle cx=\"-73.87332199882995\" cy=\"40.689616000838754\" r=\"0.01059775431097833\" stroke=\"#555555\" stroke-width=\"0.0035325847703261103\" fill=\"#66cc99\" opacity=\"0.6\" /><circle cx=\"-73.87210600099675\" cy=\"40.675376998239365\" r=\"0.01059775431097833\" stroke=\"#555555\" stroke-width=\"0.0035325847703261103\" fill=\"#66cc99\" opacity=\"0.6\" /><circle cx=\"-73.86952700103515\" cy=\"40.74914499948836\" r=\"0.01059775431097833\" stroke=\"#555555\" stroke-width=\"0.0035325847703261103\" fill=\"#66cc99\" opacity=\"0.6\" /><circle cx=\"-73.86943208612348\" cy=\"40.73309737380972\" r=\"0.01059775431097833\" stroke=\"#555555\" stroke-width=\"0.0035325847703261103\" fill=\"#66cc99\" opacity=\"0.6\" /><circle cx=\"-73.86835609178098\" cy=\"40.848768666338934\" r=\"0.01059775431097833\" stroke=\"#555555\" stroke-width=\"0.0035325847703261103\" fill=\"#66cc99\" opacity=\"0.6\" /><circle cx=\"-73.86761799923673\" cy=\"40.8315090005233\" r=\"0.01059775431097833\" stroke=\"#555555\" stroke-width=\"0.0035325847703261103\" fill=\"#66cc99\" opacity=\"0.6\" /><circle cx=\"-73.86748067850041\" cy=\"40.8571924091606\" r=\"0.01059775431097833\" stroke=\"#555555\" stroke-width=\"0.0035325847703261103\" fill=\"#66cc99\" opacity=\"0.6\" /><circle cx=\"-73.86728799944963\" cy=\"40.691290001246735\" r=\"0.01059775431097833\" stroke=\"#555555\" stroke-width=\"0.0035325847703261103\" fill=\"#66cc99\" opacity=\"0.6\" /><circle cx=\"-73.86723422851625\" cy=\"40.86548337793927\" r=\"0.01059775431097833\" stroke=\"#555555\" stroke-width=\"0.0035325847703261103\" fill=\"#66cc99\" opacity=\"0.6\" /><circle cx=\"-73.86705361747603\" cy=\"40.87125880254771\" r=\"0.01059775431097833\" stroke=\"#555555\" stroke-width=\"0.0035325847703261103\" fill=\"#66cc99\" opacity=\"0.6\" /><circle cx=\"-73.86613410538703\" cy=\"40.877839385172024\" r=\"0.01059775431097833\" stroke=\"#555555\" stroke-width=\"0.0035325847703261103\" fill=\"#66cc99\" opacity=\"0.6\" /><circle cx=\"-73.86504999877702\" cy=\"40.67704400054478\" r=\"0.01059775431097833\" stroke=\"#555555\" stroke-width=\"0.0035325847703261103\" fill=\"#66cc99\" opacity=\"0.6\" /><circle cx=\"-73.86269999830412\" cy=\"40.749865000555545\" r=\"0.01059775431097833\" stroke=\"#555555\" stroke-width=\"0.0035325847703261103\" fill=\"#66cc99\" opacity=\"0.6\" /><circle cx=\"-73.8625097078866\" cy=\"40.883887974625274\" r=\"0.01059775431097833\" stroke=\"#555555\" stroke-width=\"0.0035325847703261103\" fill=\"#66cc99\" opacity=\"0.6\" /><circle cx=\"-73.86161820097203\" cy=\"40.729763972422425\" r=\"0.01059775431097833\" stroke=\"#555555\" stroke-width=\"0.0035325847703261103\" fill=\"#66cc99\" opacity=\"0.6\" /><circle cx=\"-73.86081600108396\" cy=\"40.83322599927859\" r=\"0.01059775431097833\" stroke=\"#555555\" stroke-width=\"0.0035325847703261103\" fill=\"#66cc99\" opacity=\"0.6\" /><circle cx=\"-73.86049500117254\" cy=\"40.85436399966426\" r=\"0.01059775431097833\" stroke=\"#555555\" stroke-width=\"0.0035325847703261103\" fill=\"#66cc99\" opacity=\"0.6\" /><circle cx=\"-73.86021461772737\" cy=\"40.88802825863786\" r=\"0.01059775431097833\" stroke=\"#555555\" stroke-width=\"0.0035325847703261103\" fill=\"#66cc99\" opacity=\"0.6\" /><circle cx=\"-73.86008700006875\" cy=\"40.69242699966103\" r=\"0.01059775431097833\" stroke=\"#555555\" stroke-width=\"0.0035325847703261103\" fill=\"#66cc99\" opacity=\"0.6\" /><circle cx=\"-73.85899200206335\" cy=\"40.67937100115432\" r=\"0.01059775431097833\" stroke=\"#555555\" stroke-width=\"0.0035325847703261103\" fill=\"#66cc99\" opacity=\"0.6\" /><circle cx=\"-73.85736239521543\" cy=\"40.89314324138378\" r=\"0.01059775431097833\" stroke=\"#555555\" stroke-width=\"0.0035325847703261103\" fill=\"#66cc99\" opacity=\"0.6\" /><circle cx=\"-73.85535900043564\" cy=\"40.858984999820116\" r=\"0.01059775431097833\" stroke=\"#555555\" stroke-width=\"0.0035325847703261103\" fill=\"#66cc99\" opacity=\"0.6\" /><circle cx=\"-73.85533399834884\" cy=\"40.75172999941711\" r=\"0.01059775431097833\" stroke=\"#555555\" stroke-width=\"0.0035325847703261103\" fill=\"#66cc99\" opacity=\"0.6\" /><circle cx=\"-73.8543153107622\" cy=\"40.898286515575286\" r=\"0.01059775431097833\" stroke=\"#555555\" stroke-width=\"0.0035325847703261103\" fill=\"#66cc99\" opacity=\"0.6\" /><circle cx=\"-73.85286048434907\" cy=\"40.726505475813006\" r=\"0.01059775431097833\" stroke=\"#555555\" stroke-width=\"0.0035325847703261103\" fill=\"#66cc99\" opacity=\"0.6\" /><circle cx=\"-73.85205199740794\" cy=\"40.69370399880105\" r=\"0.01059775431097833\" stroke=\"#555555\" stroke-width=\"0.0035325847703261103\" fill=\"#66cc99\" opacity=\"0.6\" /><circle cx=\"-73.85147000026086\" cy=\"40.67984300135503\" r=\"0.01059775431097833\" stroke=\"#555555\" stroke-width=\"0.0035325847703261103\" fill=\"#66cc99\" opacity=\"0.6\" /><circle cx=\"-73.85122199961472\" cy=\"40.83425499825462\" r=\"0.01059775431097833\" stroke=\"#555555\" stroke-width=\"0.0035325847703261103\" fill=\"#66cc99\" opacity=\"0.6\" /><circle cx=\"-73.8506199987954\" cy=\"40.903125000541245\" r=\"0.01059775431097833\" stroke=\"#555555\" stroke-width=\"0.0035325847703261103\" fill=\"#66cc99\" opacity=\"0.6\" /><circle cx=\"-73.8470359987544\" cy=\"40.836488000608156\" r=\"0.01059775431097833\" stroke=\"#555555\" stroke-width=\"0.0035325847703261103\" fill=\"#66cc99\" opacity=\"0.6\" /><circle cx=\"-73.84638400151765\" cy=\"40.86952599962676\" r=\"0.01059775431097833\" stroke=\"#555555\" stroke-width=\"0.0035325847703261103\" fill=\"#66cc99\" opacity=\"0.6\" /><circle cx=\"-73.8456249984179\" cy=\"40.75462199881262\" r=\"0.01059775431097833\" stroke=\"#555555\" stroke-width=\"0.0035325847703261103\" fill=\"#66cc99\" opacity=\"0.6\" /><circle cx=\"-73.84451672012669\" cy=\"40.72159430953587\" r=\"0.01059775431097833\" stroke=\"#555555\" stroke-width=\"0.0035325847703261103\" fill=\"#66cc99\" opacity=\"0.6\" /><circle cx=\"-73.84443500029684\" cy=\"40.69516599823373\" r=\"0.01059775431097833\" stroke=\"#555555\" stroke-width=\"0.0035325847703261103\" fill=\"#66cc99\" opacity=\"0.6\" /><circle cx=\"-73.8438529979573\" cy=\"40.680428999588415\" r=\"0.01059775431097833\" stroke=\"#555555\" stroke-width=\"0.0035325847703261103\" fill=\"#66cc99\" opacity=\"0.6\" /><circle cx=\"-73.84295199925012\" cy=\"40.839892001013915\" r=\"0.01059775431097833\" stroke=\"#555555\" stroke-width=\"0.0035325847703261103\" fill=\"#66cc99\" opacity=\"0.6\" /><circle cx=\"-73.83859099802153\" cy=\"40.87866300037311\" r=\"0.01059775431097833\" stroke=\"#555555\" stroke-width=\"0.0035325847703261103\" fill=\"#66cc99\" opacity=\"0.6\" /><circle cx=\"-73.83768300060997\" cy=\"40.681711001091195\" r=\"0.01059775431097833\" stroke=\"#555555\" stroke-width=\"0.0035325847703261103\" fill=\"#66cc99\" opacity=\"0.6\" /><circle cx=\"-73.83692369387158\" cy=\"40.71804465348743\" r=\"0.01059775431097833\" stroke=\"#555555\" stroke-width=\"0.0035325847703261103\" fill=\"#66cc99\" opacity=\"0.6\" /><circle cx=\"-73.83679338454697\" cy=\"40.697114810696476\" r=\"0.01059775431097833\" stroke=\"#555555\" stroke-width=\"0.0035325847703261103\" fill=\"#66cc99\" opacity=\"0.6\" /><circle cx=\"-73.83632199755944\" cy=\"40.84386300128381\" r=\"0.01059775431097833\" stroke=\"#555555\" stroke-width=\"0.0035325847703261103\" fill=\"#66cc99\" opacity=\"0.6\" /><circle cx=\"-73.83591899965162\" cy=\"40.672096999172844\" r=\"0.01059775431097833\" stroke=\"#555555\" stroke-width=\"0.0035325847703261103\" fill=\"#66cc99\" opacity=\"0.6\" /><circle cx=\"-73.83559008701239\" cy=\"40.580955865573515\" r=\"0.01059775431097833\" stroke=\"#555555\" stroke-width=\"0.0035325847703261103\" fill=\"#66cc99\" opacity=\"0.6\" /><circle cx=\"-73.83405799948723\" cy=\"40.668234001699815\" r=\"0.01059775431097833\" stroke=\"#555555\" stroke-width=\"0.0035325847703261103\" fill=\"#66cc99\" opacity=\"0.6\" /><circle cx=\"-73.83256900003744\" cy=\"40.846809998885504\" r=\"0.01059775431097833\" stroke=\"#555555\" stroke-width=\"0.0035325847703261103\" fill=\"#66cc99\" opacity=\"0.6\" /><circle cx=\"-73.83216299845388\" cy=\"40.68433100001238\" r=\"0.01059775431097833\" stroke=\"#555555\" stroke-width=\"0.0035325847703261103\" fill=\"#66cc99\" opacity=\"0.6\" /><circle cx=\"-73.8308340021742\" cy=\"40.88829999901007\" r=\"0.01059775431097833\" stroke=\"#555555\" stroke-width=\"0.0035325847703261103\" fill=\"#66cc99\" opacity=\"0.6\" /><circle cx=\"-73.8303702709878\" cy=\"40.714034819571026\" r=\"0.01059775431097833\" stroke=\"#555555\" stroke-width=\"0.0035325847703261103\" fill=\"#66cc99\" opacity=\"0.6\" /><circle cx=\"-73.83030100071032\" cy=\"40.66047600004959\" r=\"0.01059775431097833\" stroke=\"#555555\" stroke-width=\"0.0035325847703261103\" fill=\"#66cc99\" opacity=\"0.6\" /><circle cx=\"-73.83003000262508\" cy=\"40.75959999915012\" r=\"0.01059775431097833\" stroke=\"#555555\" stroke-width=\"0.0035325847703261103\" fill=\"#66cc99\" opacity=\"0.6\" /><circle cx=\"-73.82834900017954\" cy=\"40.700481998515315\" r=\"0.01059775431097833\" stroke=\"#555555\" stroke-width=\"0.0035325847703261103\" fill=\"#66cc99\" opacity=\"0.6\" /><circle cx=\"-73.82812100059289\" cy=\"40.85246199951662\" r=\"0.01059775431097833\" stroke=\"#555555\" stroke-width=\"0.0035325847703261103\" fill=\"#66cc99\" opacity=\"0.6\" /><circle cx=\"-73.82758075034528\" cy=\"40.58326843810286\" r=\"0.01059775431097833\" stroke=\"#555555\" stroke-width=\"0.0035325847703261103\" fill=\"#66cc99\" opacity=\"0.6\" /><circle cx=\"-73.82579799906613\" cy=\"40.68595099878361\" r=\"0.01059775431097833\" stroke=\"#555555\" stroke-width=\"0.0035325847703261103\" fill=\"#66cc99\" opacity=\"0.6\" /><circle cx=\"-73.82069263637443\" cy=\"40.70916181536946\" r=\"0.01059775431097833\" stroke=\"#555555\" stroke-width=\"0.0035325847703261103\" fill=\"#66cc99\" opacity=\"0.6\" /><circle cx=\"-73.82052058959523\" cy=\"40.58538569133279\" r=\"0.01059775431097833\" stroke=\"#555555\" stroke-width=\"0.0035325847703261103\" fill=\"#66cc99\" opacity=\"0.6\" /><circle cx=\"-73.81701287135405\" cy=\"40.70289855287313\" r=\"0.01059775431097833\" stroke=\"#555555\" stroke-width=\"0.0035325847703261103\" fill=\"#66cc99\" opacity=\"0.6\" /><circle cx=\"-73.81583268782963\" cy=\"40.60840218069683\" r=\"0.01059775431097833\" stroke=\"#555555\" stroke-width=\"0.0035325847703261103\" fill=\"#66cc99\" opacity=\"0.6\" /><circle cx=\"-73.81365140419632\" cy=\"40.58809156457325\" r=\"0.01059775431097833\" stroke=\"#555555\" stroke-width=\"0.0035325847703261103\" fill=\"#66cc99\" opacity=\"0.6\" /><circle cx=\"-73.81083299897232\" cy=\"40.70541799906764\" r=\"0.01059775431097833\" stroke=\"#555555\" stroke-width=\"0.0035325847703261103\" fill=\"#66cc99\" opacity=\"0.6\" /><circle cx=\"-73.80800471963833\" cy=\"40.700382424235\" r=\"0.01059775431097833\" stroke=\"#555555\" stroke-width=\"0.0035325847703261103\" fill=\"#66cc99\" opacity=\"0.6\" /><circle cx=\"-73.80328900021885\" cy=\"40.707571999615695\" r=\"0.01059775431097833\" stroke=\"#555555\" stroke-width=\"0.0035325847703261103\" fill=\"#66cc99\" opacity=\"0.6\" /><circle cx=\"-73.80109632298924\" cy=\"40.70206737621188\" r=\"0.01059775431097833\" stroke=\"#555555\" stroke-width=\"0.0035325847703261103\" fill=\"#66cc99\" opacity=\"0.6\" /><circle cx=\"-73.7969239998421\" cy=\"40.59092700078133\" r=\"0.01059775431097833\" stroke=\"#555555\" stroke-width=\"0.0035325847703261103\" fill=\"#66cc99\" opacity=\"0.6\" /><circle cx=\"-73.79347419927721\" cy=\"40.710517502784\" r=\"0.01059775431097833\" stroke=\"#555555\" stroke-width=\"0.0035325847703261103\" fill=\"#66cc99\" opacity=\"0.6\" /><circle cx=\"-73.7885219980118\" cy=\"40.59237400121235\" r=\"0.01059775431097833\" stroke=\"#555555\" stroke-width=\"0.0035325847703261103\" fill=\"#66cc99\" opacity=\"0.6\" /><circle cx=\"-73.78381700176453\" cy=\"40.712645666744045\" r=\"0.01059775431097833\" stroke=\"#555555\" stroke-width=\"0.0035325847703261103\" fill=\"#66cc99\" opacity=\"0.6\" /><circle cx=\"-73.77601299999507\" cy=\"40.59294299908617\" r=\"0.01059775431097833\" stroke=\"#555555\" stroke-width=\"0.0035325847703261103\" fill=\"#66cc99\" opacity=\"0.6\" /><circle cx=\"-73.76817499939688\" cy=\"40.59539800166876\" r=\"0.01059775431097833\" stroke=\"#555555\" stroke-width=\"0.0035325847703261103\" fill=\"#66cc99\" opacity=\"0.6\" /><circle cx=\"-73.76135299762073\" cy=\"40.60006600105881\" r=\"0.01059775431097833\" stroke=\"#555555\" stroke-width=\"0.0035325847703261103\" fill=\"#66cc99\" opacity=\"0.6\" /><circle cx=\"-73.75540499924732\" cy=\"40.603995001687544\" r=\"0.01059775431097833\" stroke=\"#555555\" stroke-width=\"0.0035325847703261103\" fill=\"#66cc99\" opacity=\"0.6\" /></g></g></svg>"
      ],
      "text/plain": [
       "<shapely.geometry.multipoint.MultiPoint at 0x1c63296afd0>"
      ]
     },
     "execution_count": 14,
     "metadata": {},
     "output_type": "execute_result"
    }
   ],
   "source": [
    "unary"
   ]
  },
  {
   "cell_type": "code",
   "execution_count": null,
   "id": "6578c03a",
   "metadata": {},
   "outputs": [],
   "source": []
  },
  {
   "cell_type": "code",
   "execution_count": 15,
   "id": "ad65405f",
   "metadata": {},
   "outputs": [],
   "source": [
    "def nearest_station(point, pts=unary):\n",
    "     # find the nearest station and return it and the corresponding distance to that station\n",
    "    nearest = stations.geometry == nearest_points(point, pts)[1]\n",
    "    \n",
    "    \n",
    "    longs = stations[nearest].iloc[0].geometry.x\n",
    "    lats = stations[nearest].iloc[0].geometry.y\n",
    "    longp = point.x\n",
    "    latp = point.y\n",
    "    \n",
    "    return [stations[nearest].iloc[0], haversine(longs, lats, longp, latp)]\n",
    "\n",
    "def haversine(lon1, lat1, lon2, lat2):\n",
    "    \"\"\"\n",
    "    Calculate the great circle distance between two points \n",
    "    on the earth (specified in decimal degrees)\n",
    "    \"\"\"\n",
    "    # convert decimal degrees to radians \n",
    "    lon1, lat1, lon2, lat2 = map(radians, [lon1, lat1, lon2, lat2])\n",
    "\n",
    "    # haversine formula \n",
    "    dlon = lon2 - lon1 \n",
    "    dlat = lat2 - lat1 \n",
    "    a = sin(dlat/2)**2 + cos(lat1) * cos(lat2) * sin(dlon/2)**2\n",
    "    c = 2 * asin(sqrt(a)) \n",
    "    r = 6371 # Radius of earth in km. Use 3956 for miles\n",
    "    \n",
    "    return c * r *1000 #conver to m"
   ]
  },
  {
   "cell_type": "code",
   "execution_count": 16,
   "id": "9ac59de4",
   "metadata": {},
   "outputs": [
    {
     "ename": "KeyboardInterrupt",
     "evalue": "",
     "output_type": "error",
     "traceback": [
      "\u001b[1;31m---------------------------------------------------------------------------\u001b[0m",
      "\u001b[1;31mKeyboardInterrupt\u001b[0m                         Traceback (most recent call last)",
      "\u001b[1;32m~\\AppData\\Local\\Temp/ipykernel_16488/69220500.py\u001b[0m in \u001b[0;36m<module>\u001b[1;34m\u001b[0m\n\u001b[0;32m      4\u001b[0m \u001b[1;33m\u001b[0m\u001b[0m\n\u001b[0;32m      5\u001b[0m \u001b[1;32mfor\u001b[0m \u001b[0mindex\u001b[0m\u001b[1;33m,\u001b[0m \u001b[0mrow\u001b[0m \u001b[1;32min\u001b[0m \u001b[0marrests_gdf\u001b[0m\u001b[1;33m.\u001b[0m\u001b[0miterrows\u001b[0m\u001b[1;33m(\u001b[0m\u001b[1;33m)\u001b[0m\u001b[1;33m:\u001b[0m\u001b[1;33m\u001b[0m\u001b[1;33m\u001b[0m\u001b[0m\n\u001b[1;32m----> 6\u001b[1;33m     \u001b[1;33m[\u001b[0m\u001b[0mstation\u001b[0m\u001b[1;33m,\u001b[0m \u001b[0mdist\u001b[0m\u001b[1;33m]\u001b[0m \u001b[1;33m=\u001b[0m \u001b[0mnearest_station\u001b[0m\u001b[1;33m(\u001b[0m\u001b[0mrow\u001b[0m\u001b[1;33m.\u001b[0m\u001b[0mgeometry\u001b[0m\u001b[1;33m)\u001b[0m\u001b[1;33m\u001b[0m\u001b[1;33m\u001b[0m\u001b[0m\n\u001b[0m\u001b[0;32m      7\u001b[0m \u001b[1;33m\u001b[0m\u001b[0m\n\u001b[0;32m      8\u001b[0m     \u001b[0mdf\u001b[0m \u001b[1;33m=\u001b[0m \u001b[0mstation\u001b[0m\u001b[1;33m[\u001b[0m\u001b[1;33m[\u001b[0m\u001b[1;34m'line'\u001b[0m\u001b[1;33m,\u001b[0m \u001b[1;34m'name'\u001b[0m\u001b[1;33m,\u001b[0m \u001b[1;34m'notes'\u001b[0m\u001b[1;33m,\u001b[0m \u001b[1;34m'objectid'\u001b[0m\u001b[1;33m]\u001b[0m\u001b[1;33m]\u001b[0m\u001b[1;33m.\u001b[0m\u001b[0mcopy\u001b[0m\u001b[1;33m(\u001b[0m\u001b[1;33m)\u001b[0m\u001b[1;33m\u001b[0m\u001b[1;33m\u001b[0m\u001b[0m\n",
      "\u001b[1;32m~\\AppData\\Local\\Temp/ipykernel_16488/2388106657.py\u001b[0m in \u001b[0;36mnearest_station\u001b[1;34m(point, pts)\u001b[0m\n\u001b[0;32m      5\u001b[0m \u001b[1;33m\u001b[0m\u001b[0m\n\u001b[0;32m      6\u001b[0m     \u001b[0mlongs\u001b[0m \u001b[1;33m=\u001b[0m \u001b[0mstations\u001b[0m\u001b[1;33m[\u001b[0m\u001b[0mnearest\u001b[0m\u001b[1;33m]\u001b[0m\u001b[1;33m.\u001b[0m\u001b[0miloc\u001b[0m\u001b[1;33m[\u001b[0m\u001b[1;36m0\u001b[0m\u001b[1;33m]\u001b[0m\u001b[1;33m.\u001b[0m\u001b[0mgeometry\u001b[0m\u001b[1;33m.\u001b[0m\u001b[0mx\u001b[0m\u001b[1;33m\u001b[0m\u001b[1;33m\u001b[0m\u001b[0m\n\u001b[1;32m----> 7\u001b[1;33m     \u001b[0mlats\u001b[0m \u001b[1;33m=\u001b[0m \u001b[0mstations\u001b[0m\u001b[1;33m[\u001b[0m\u001b[0mnearest\u001b[0m\u001b[1;33m]\u001b[0m\u001b[1;33m.\u001b[0m\u001b[0miloc\u001b[0m\u001b[1;33m[\u001b[0m\u001b[1;36m0\u001b[0m\u001b[1;33m]\u001b[0m\u001b[1;33m.\u001b[0m\u001b[0mgeometry\u001b[0m\u001b[1;33m.\u001b[0m\u001b[0my\u001b[0m\u001b[1;33m\u001b[0m\u001b[1;33m\u001b[0m\u001b[0m\n\u001b[0m\u001b[0;32m      8\u001b[0m     \u001b[0mlongp\u001b[0m \u001b[1;33m=\u001b[0m \u001b[0mpoint\u001b[0m\u001b[1;33m.\u001b[0m\u001b[0mx\u001b[0m\u001b[1;33m\u001b[0m\u001b[1;33m\u001b[0m\u001b[0m\n\u001b[0;32m      9\u001b[0m     \u001b[0mlatp\u001b[0m \u001b[1;33m=\u001b[0m \u001b[0mpoint\u001b[0m\u001b[1;33m.\u001b[0m\u001b[0my\u001b[0m\u001b[1;33m\u001b[0m\u001b[1;33m\u001b[0m\u001b[0m\n",
      "\u001b[1;32m~\\anaconda3\\envs\\geo\\lib\\site-packages\\shapely\\geometry\\point.py\u001b[0m in \u001b[0;36my\u001b[1;34m(self)\u001b[0m\n\u001b[0;32m     58\u001b[0m     \u001b[1;32mdef\u001b[0m \u001b[0my\u001b[0m\u001b[1;33m(\u001b[0m\u001b[0mself\u001b[0m\u001b[1;33m)\u001b[0m\u001b[1;33m:\u001b[0m\u001b[1;33m\u001b[0m\u001b[1;33m\u001b[0m\u001b[0m\n\u001b[0;32m     59\u001b[0m         \u001b[1;34m\"\"\"Return y coordinate.\"\"\"\u001b[0m\u001b[1;33m\u001b[0m\u001b[1;33m\u001b[0m\u001b[0m\n\u001b[1;32m---> 60\u001b[1;33m         \u001b[1;32mreturn\u001b[0m \u001b[0mself\u001b[0m\u001b[1;33m.\u001b[0m\u001b[0mcoords\u001b[0m\u001b[1;33m[\u001b[0m\u001b[1;36m0\u001b[0m\u001b[1;33m]\u001b[0m\u001b[1;33m[\u001b[0m\u001b[1;36m1\u001b[0m\u001b[1;33m]\u001b[0m\u001b[1;33m\u001b[0m\u001b[1;33m\u001b[0m\u001b[0m\n\u001b[0m\u001b[0;32m     61\u001b[0m \u001b[1;33m\u001b[0m\u001b[0m\n\u001b[0;32m     62\u001b[0m     \u001b[1;33m@\u001b[0m\u001b[0mproperty\u001b[0m\u001b[1;33m\u001b[0m\u001b[1;33m\u001b[0m\u001b[0m\n",
      "\u001b[1;32m~\\anaconda3\\envs\\geo\\lib\\site-packages\\shapely\\coords.py\u001b[0m in \u001b[0;36m__getitem__\u001b[1;34m(self, key)\u001b[0m\n\u001b[0;32m     72\u001b[0m         \u001b[0mdy\u001b[0m \u001b[1;33m=\u001b[0m \u001b[0mc_double\u001b[0m\u001b[1;33m(\u001b[0m\u001b[1;33m)\u001b[0m\u001b[1;33m\u001b[0m\u001b[1;33m\u001b[0m\u001b[0m\n\u001b[0;32m     73\u001b[0m         \u001b[0mdz\u001b[0m \u001b[1;33m=\u001b[0m \u001b[0mc_double\u001b[0m\u001b[1;33m(\u001b[0m\u001b[1;33m)\u001b[0m\u001b[1;33m\u001b[0m\u001b[1;33m\u001b[0m\u001b[0m\n\u001b[1;32m---> 74\u001b[1;33m         \u001b[0mm\u001b[0m \u001b[1;33m=\u001b[0m \u001b[0mself\u001b[0m\u001b[1;33m.\u001b[0m\u001b[0m__len__\u001b[0m\u001b[1;33m(\u001b[0m\u001b[1;33m)\u001b[0m\u001b[1;33m\u001b[0m\u001b[1;33m\u001b[0m\u001b[0m\n\u001b[0m\u001b[0;32m     75\u001b[0m         \u001b[0mhas_z\u001b[0m \u001b[1;33m=\u001b[0m \u001b[0mself\u001b[0m\u001b[1;33m.\u001b[0m\u001b[0m_ndim\u001b[0m \u001b[1;33m==\u001b[0m \u001b[1;36m3\u001b[0m\u001b[1;33m\u001b[0m\u001b[1;33m\u001b[0m\u001b[0m\n\u001b[0;32m     76\u001b[0m         \u001b[1;32mif\u001b[0m \u001b[0misinstance\u001b[0m\u001b[1;33m(\u001b[0m\u001b[0mkey\u001b[0m\u001b[1;33m,\u001b[0m \u001b[0mint\u001b[0m\u001b[1;33m)\u001b[0m\u001b[1;33m:\u001b[0m\u001b[1;33m\u001b[0m\u001b[1;33m\u001b[0m\u001b[0m\n",
      "\u001b[1;32m~\\anaconda3\\envs\\geo\\lib\\site-packages\\shapely\\coords.py\u001b[0m in \u001b[0;36m__len__\u001b[1;34m(self)\u001b[0m\n\u001b[0;32m     47\u001b[0m \u001b[1;33m\u001b[0m\u001b[0m\n\u001b[0;32m     48\u001b[0m     \u001b[1;32mdef\u001b[0m \u001b[0m__len__\u001b[0m\u001b[1;33m(\u001b[0m\u001b[0mself\u001b[0m\u001b[1;33m)\u001b[0m\u001b[1;33m:\u001b[0m\u001b[1;33m\u001b[0m\u001b[1;33m\u001b[0m\u001b[0m\n\u001b[1;32m---> 49\u001b[1;33m         \u001b[0mself\u001b[0m\u001b[1;33m.\u001b[0m\u001b[0m_update\u001b[0m\u001b[1;33m(\u001b[0m\u001b[1;33m)\u001b[0m\u001b[1;33m\u001b[0m\u001b[1;33m\u001b[0m\u001b[0m\n\u001b[0m\u001b[0;32m     50\u001b[0m         \u001b[0mcs_len\u001b[0m \u001b[1;33m=\u001b[0m \u001b[0mc_uint\u001b[0m\u001b[1;33m(\u001b[0m\u001b[1;36m0\u001b[0m\u001b[1;33m)\u001b[0m\u001b[1;33m\u001b[0m\u001b[1;33m\u001b[0m\u001b[0m\n\u001b[0;32m     51\u001b[0m         \u001b[0mlgeos\u001b[0m\u001b[1;33m.\u001b[0m\u001b[0mGEOSCoordSeq_getSize\u001b[0m\u001b[1;33m(\u001b[0m\u001b[0mself\u001b[0m\u001b[1;33m.\u001b[0m\u001b[0m_cseq\u001b[0m\u001b[1;33m,\u001b[0m \u001b[0mbyref\u001b[0m\u001b[1;33m(\u001b[0m\u001b[0mcs_len\u001b[0m\u001b[1;33m)\u001b[0m\u001b[1;33m)\u001b[0m\u001b[1;33m\u001b[0m\u001b[1;33m\u001b[0m\u001b[0m\n",
      "\u001b[1;32m~\\anaconda3\\envs\\geo\\lib\\site-packages\\shapely\\coords.py\u001b[0m in \u001b[0;36m_update\u001b[1;34m(self)\u001b[0m\n\u001b[0;32m     44\u001b[0m     \u001b[1;32mdef\u001b[0m \u001b[0m_update\u001b[0m\u001b[1;33m(\u001b[0m\u001b[0mself\u001b[0m\u001b[1;33m)\u001b[0m\u001b[1;33m:\u001b[0m\u001b[1;33m\u001b[0m\u001b[1;33m\u001b[0m\u001b[0m\n\u001b[0;32m     45\u001b[0m         \u001b[0mself\u001b[0m\u001b[1;33m.\u001b[0m\u001b[0m_ndim\u001b[0m \u001b[1;33m=\u001b[0m \u001b[0mself\u001b[0m\u001b[1;33m.\u001b[0m\u001b[0m__p__\u001b[0m\u001b[1;33m.\u001b[0m\u001b[0m_ndim\u001b[0m\u001b[1;33m\u001b[0m\u001b[1;33m\u001b[0m\u001b[0m\n\u001b[1;32m---> 46\u001b[1;33m         \u001b[0mself\u001b[0m\u001b[1;33m.\u001b[0m\u001b[0m_cseq\u001b[0m \u001b[1;33m=\u001b[0m \u001b[0mlgeos\u001b[0m\u001b[1;33m.\u001b[0m\u001b[0mGEOSGeom_getCoordSeq\u001b[0m\u001b[1;33m(\u001b[0m\u001b[0mself\u001b[0m\u001b[1;33m.\u001b[0m\u001b[0m__p__\u001b[0m\u001b[1;33m.\u001b[0m\u001b[0m_geom\u001b[0m\u001b[1;33m)\u001b[0m\u001b[1;33m\u001b[0m\u001b[1;33m\u001b[0m\u001b[0m\n\u001b[0m\u001b[0;32m     47\u001b[0m \u001b[1;33m\u001b[0m\u001b[0m\n\u001b[0;32m     48\u001b[0m     \u001b[1;32mdef\u001b[0m \u001b[0m__len__\u001b[0m\u001b[1;33m(\u001b[0m\u001b[0mself\u001b[0m\u001b[1;33m)\u001b[0m\u001b[1;33m:\u001b[0m\u001b[1;33m\u001b[0m\u001b[1;33m\u001b[0m\u001b[0m\n",
      "\u001b[1;31mKeyboardInterrupt\u001b[0m: "
     ]
    }
   ],
   "source": [
    "max_dist = 250\n",
    "\n",
    "arrests_stations = pd.DataFrame()\n",
    "\n",
    "for index, row in arrests_gdf.iterrows():\n",
    "    [station, dist] = nearest_station(row.geometry)\n",
    "    \n",
    "    df = station[['line', 'name', 'notes', 'objectid']].copy()\n",
    "    #df['index'] = index\n",
    "    \n",
    "    if dist <= max_dist:\n",
    "        arrests_stations = arrests_stations.append(df)"
   ]
  },
  {
   "cell_type": "code",
   "execution_count": 17,
   "id": "cd043a56",
   "metadata": {},
   "outputs": [
    {
     "data": {
      "text/html": [
       "<div>\n",
       "<style scoped>\n",
       "    .dataframe tbody tr th:only-of-type {\n",
       "        vertical-align: middle;\n",
       "    }\n",
       "\n",
       "    .dataframe tbody tr th {\n",
       "        vertical-align: top;\n",
       "    }\n",
       "\n",
       "    .dataframe thead th {\n",
       "        text-align: right;\n",
       "    }\n",
       "</style>\n",
       "<table border=\"1\" class=\"dataframe\">\n",
       "  <thead>\n",
       "    <tr style=\"text-align: right;\">\n",
       "      <th></th>\n",
       "      <th>line</th>\n",
       "      <th>name</th>\n",
       "      <th>notes</th>\n",
       "      <th>objectid</th>\n",
       "    </tr>\n",
       "  </thead>\n",
       "  <tbody>\n",
       "    <tr>\n",
       "      <th>367</th>\n",
       "      <td>A-C-F</td>\n",
       "      <td>Jay St - MetroTech</td>\n",
       "      <td>A,F-all times, C-all times exc nights</td>\n",
       "      <td>368.0</td>\n",
       "    </tr>\n",
       "    <tr>\n",
       "      <th>217</th>\n",
       "      <td>3-4</td>\n",
       "      <td>Rockaway Ave</td>\n",
       "      <td>4-nights, 3-all other times</td>\n",
       "      <td>218.0</td>\n",
       "    </tr>\n",
       "    <tr>\n",
       "      <th>115</th>\n",
       "      <td>2-3-4-5</td>\n",
       "      <td>Atlantic Av - Barclay's Center</td>\n",
       "      <td>2,4-all times, 3-all times exc nights, 5-weekdays</td>\n",
       "      <td>116.0</td>\n",
       "    </tr>\n",
       "    <tr>\n",
       "      <th>296</th>\n",
       "      <td>B-D</td>\n",
       "      <td>161st St - Yankee Stadium</td>\n",
       "      <td>B-rush hours, D-all times, skips rush hours AM...</td>\n",
       "      <td>297.0</td>\n",
       "    </tr>\n",
       "    <tr>\n",
       "      <th>234</th>\n",
       "      <td>L</td>\n",
       "      <td>DeKalb Ave</td>\n",
       "      <td>L-all times</td>\n",
       "      <td>235.0</td>\n",
       "    </tr>\n",
       "    <tr>\n",
       "      <th>...</th>\n",
       "      <td>...</td>\n",
       "      <td>...</td>\n",
       "      <td>...</td>\n",
       "      <td>...</td>\n",
       "    </tr>\n",
       "    <tr>\n",
       "      <th>255</th>\n",
       "      <td>2-5</td>\n",
       "      <td>174th St</td>\n",
       "      <td>2-all times, 5-all times exc nights, skips rus...</td>\n",
       "      <td>256.0</td>\n",
       "    </tr>\n",
       "    <tr>\n",
       "      <th>438</th>\n",
       "      <td>1-2-3</td>\n",
       "      <td>14th St</td>\n",
       "      <td>1,2-all times, 3-all times exc nights</td>\n",
       "      <td>439.0</td>\n",
       "    </tr>\n",
       "    <tr>\n",
       "      <th>43</th>\n",
       "      <td>2-5</td>\n",
       "      <td>Bronx Park East</td>\n",
       "      <td>2-all times, 5-rush hours AM southbound, PM no...</td>\n",
       "      <td>44.0</td>\n",
       "    </tr>\n",
       "    <tr>\n",
       "      <th>26</th>\n",
       "      <td>6-6 Express</td>\n",
       "      <td>3rd Ave - 138th St</td>\n",
       "      <td>6-all times, 6 Express-weekdays AM southbound,...</td>\n",
       "      <td>27.0</td>\n",
       "    </tr>\n",
       "    <tr>\n",
       "      <th>382</th>\n",
       "      <td>L</td>\n",
       "      <td>3rd Ave</td>\n",
       "      <td>L-all times</td>\n",
       "      <td>383.0</td>\n",
       "    </tr>\n",
       "  </tbody>\n",
       "</table>\n",
       "<p>24272 rows × 4 columns</p>\n",
       "</div>"
      ],
      "text/plain": [
       "            line                            name  \\\n",
       "367        A-C-F              Jay St - MetroTech   \n",
       "217          3-4                    Rockaway Ave   \n",
       "115      2-3-4-5  Atlantic Av - Barclay's Center   \n",
       "296          B-D       161st St - Yankee Stadium   \n",
       "234            L                      DeKalb Ave   \n",
       "..           ...                             ...   \n",
       "255          2-5                        174th St   \n",
       "438        1-2-3                         14th St   \n",
       "43           2-5                 Bronx Park East   \n",
       "26   6-6 Express              3rd Ave - 138th St   \n",
       "382            L                         3rd Ave   \n",
       "\n",
       "                                                 notes  objectid  \n",
       "367              A,F-all times, C-all times exc nights     368.0  \n",
       "217                        4-nights, 3-all other times     218.0  \n",
       "115  2,4-all times, 3-all times exc nights, 5-weekdays     116.0  \n",
       "296  B-rush hours, D-all times, skips rush hours AM...     297.0  \n",
       "234                                        L-all times     235.0  \n",
       "..                                                 ...       ...  \n",
       "255  2-all times, 5-all times exc nights, skips rus...     256.0  \n",
       "438              1,2-all times, 3-all times exc nights     439.0  \n",
       "43   2-all times, 5-rush hours AM southbound, PM no...      44.0  \n",
       "26   6-all times, 6 Express-weekdays AM southbound,...      27.0  \n",
       "382                                        L-all times     383.0  \n",
       "\n",
       "[24272 rows x 4 columns]"
      ]
     },
     "execution_count": 17,
     "metadata": {},
     "output_type": "execute_result"
    }
   ],
   "source": [
    "arrests_stations"
   ]
  },
  {
   "cell_type": "code",
   "execution_count": 18,
   "id": "2637da22",
   "metadata": {},
   "outputs": [
    {
     "name": "stdout",
     "output_type": "stream",
     "text": [
      "24272\n"
     ]
    }
   ],
   "source": [
    "print(len(arrests_stations))"
   ]
  },
  {
   "cell_type": "code",
   "execution_count": 19,
   "id": "df00d4f6",
   "metadata": {},
   "outputs": [
    {
     "name": "stdout",
     "output_type": "stream",
     "text": [
      "        line                            name  \\\n",
      "367    A-C-F              Jay St - MetroTech   \n",
      "217      3-4                    Rockaway Ave   \n",
      "115  2-3-4-5  Atlantic Av - Barclay's Center   \n",
      "296      B-D       161st St - Yankee Stadium   \n",
      "234        L                      DeKalb Ave   \n",
      "\n",
      "                                                 notes  objectid  \n",
      "367              A,F-all times, C-all times exc nights     368.0  \n",
      "217                        4-nights, 3-all other times     218.0  \n",
      "115  2,4-all times, 3-all times exc nights, 5-weekdays     116.0  \n",
      "296  B-rush hours, D-all times, skips rush hours AM...     297.0  \n",
      "234                                        L-all times     235.0  \n"
     ]
    }
   ],
   "source": [
    "arrests_stations.index = arrests_stations.index.astype('int64')\n",
    "print(arrests_stations.head())"
   ]
  },
  {
   "cell_type": "code",
   "execution_count": 20,
   "id": "958e0ed2",
   "metadata": {},
   "outputs": [],
   "source": [
    "arrests_assigned = arrests_gdf.merge(arrests_stations, left_index=True, right_index = True)"
   ]
  },
  {
   "cell_type": "code",
   "execution_count": 21,
   "id": "33058973",
   "metadata": {},
   "outputs": [
    {
     "name": "stdout",
     "output_type": "stream",
     "text": [
      "   ARREST_KEY ARREST_DATE ARREST_BORO  ARREST_PRECINCT  JURISDICTION_CODE  \\\n",
      "0    24079639  08/30/2006           K               84                1.0   \n",
      "0    24079639  08/30/2006           K               84                1.0   \n",
      "0    24079639  08/30/2006           K               84                1.0   \n",
      "0    24079639  08/30/2006           K               84                1.0   \n",
      "0    24079639  08/30/2006           K               84                1.0   \n",
      "\n",
      "  AGE_GROUP PERP_SEX PERP_RACE   Latitude  Longitude  \\\n",
      "0     18-24        M     BLACK  40.691465 -73.987348   \n",
      "0     18-24        M     BLACK  40.691465 -73.987348   \n",
      "0     18-24        M     BLACK  40.691465 -73.987348   \n",
      "0     18-24        M     BLACK  40.691465 -73.987348   \n",
      "0     18-24        M     BLACK  40.691465 -73.987348   \n",
      "\n",
      "                     geometry           line      name  \\\n",
      "0  POINT (-73.98735 40.69146)  4-6-6 Express  Astor Pl   \n",
      "0  POINT (-73.98735 40.69146)  4-6-6 Express  Astor Pl   \n",
      "0  POINT (-73.98735 40.69146)  4-6-6 Express  Astor Pl   \n",
      "0  POINT (-73.98735 40.69146)  4-6-6 Express  Astor Pl   \n",
      "0  POINT (-73.98735 40.69146)  4-6-6 Express  Astor Pl   \n",
      "\n",
      "                                               notes  objectid  \n",
      "0  4 nights, 6-all times, 6 Express-weekdays AM s...       1.0  \n",
      "0  4 nights, 6-all times, 6 Express-weekdays AM s...       1.0  \n",
      "0  4 nights, 6-all times, 6 Express-weekdays AM s...       1.0  \n",
      "0  4 nights, 6-all times, 6 Express-weekdays AM s...       1.0  \n",
      "0  4 nights, 6-all times, 6 Express-weekdays AM s...       1.0  \n"
     ]
    }
   ],
   "source": [
    "print(arrests_assigned.head())"
   ]
  },
  {
   "cell_type": "code",
   "execution_count": 22,
   "id": "d2e6f736",
   "metadata": {},
   "outputs": [
    {
     "name": "stdout",
     "output_type": "stream",
     "text": [
      "24272\n"
     ]
    }
   ],
   "source": [
    "print(len(arrests_assigned))"
   ]
  },
  {
   "cell_type": "code",
   "execution_count": 23,
   "id": "708f0f18",
   "metadata": {},
   "outputs": [
    {
     "data": {
      "text/plain": [
       "8.1869175270598"
      ]
     },
     "execution_count": 23,
     "metadata": {},
     "output_type": "execute_result"
    }
   ],
   "source": [
    "#percent of arrests able to be attributible to stops w/ duplicates\n",
    "100*len(arrests_assigned)/len(arrests_gdf)"
   ]
  },
  {
   "cell_type": "code",
   "execution_count": 25,
   "id": "f2ebb73c",
   "metadata": {},
   "outputs": [
    {
     "name": "stdout",
     "output_type": "stream",
     "text": [
      "Dropped: -24243 duplicates.\n"
     ]
    }
   ],
   "source": [
    "#drop duplicates of arrests we couldn't uniquely attach to a station\n",
    "arrests_assigned = arrests_assigned.drop_duplicates(subset='ARREST_KEY', keep = False)\n",
    "print('Dropped: '+str(len(arrests_assigned) - len(arrests_stations))+ ' duplicates.')"
   ]
  },
  {
   "cell_type": "code",
   "execution_count": 26,
   "id": "1f786c09",
   "metadata": {},
   "outputs": [
    {
     "name": "stdout",
     "output_type": "stream",
     "text": [
      "Dropped: -24243 nans.\n"
     ]
    }
   ],
   "source": [
    "#drop rows with any columns na (ie we could not assign to stations)\n",
    "arrests_assigned = arrests_assigned.dropna()\n",
    "print('Dropped: '+str(len(arrests_assigned) - len(arrests_stations))+ ' nans.')"
   ]
  },
  {
   "cell_type": "code",
   "execution_count": 24,
   "id": "c9ee24d3",
   "metadata": {},
   "outputs": [],
   "source": [
    "arrests_assigned.to_csv('Arrests_Assigned_250m00000.csv')"
   ]
  },
  {
   "cell_type": "code",
   "execution_count": null,
   "id": "eb625f18",
   "metadata": {},
   "outputs": [],
   "source": [
    "arrests_stations.groupby(['name', 'line']).count().reset_index().sort_values('objectid', ascending=False).drop('notes', axis=1).rename({'objectid': 'arrests'}, axis=1)"
   ]
  },
  {
   "cell_type": "code",
   "execution_count": null,
   "id": "2c24fcee",
   "metadata": {},
   "outputs": [],
   "source": [
    "arrests_assigned.head()"
   ]
  }
 ],
 "metadata": {
  "kernelspec": {
   "display_name": "Python 3 (ipykernel)",
   "language": "python",
   "name": "python3"
  },
  "language_info": {
   "codemirror_mode": {
    "name": "ipython",
    "version": 3
   },
   "file_extension": ".py",
   "mimetype": "text/x-python",
   "name": "python",
   "nbconvert_exporter": "python",
   "pygments_lexer": "ipython3",
   "version": "3.9.7"
  },
  "toc": {
   "base_numbering": 1,
   "nav_menu": {},
   "number_sections": true,
   "sideBar": true,
   "skip_h1_title": false,
   "title_cell": "Table of Contents",
   "title_sidebar": "Contents",
   "toc_cell": false,
   "toc_position": {},
   "toc_section_display": true,
   "toc_window_display": false
  },
  "varInspector": {
   "cols": {
    "lenName": 16,
    "lenType": 16,
    "lenVar": 40
   },
   "kernels_config": {
    "python": {
     "delete_cmd_postfix": "",
     "delete_cmd_prefix": "del ",
     "library": "var_list.py",
     "varRefreshCmd": "print(var_dic_list())"
    },
    "r": {
     "delete_cmd_postfix": ") ",
     "delete_cmd_prefix": "rm(",
     "library": "var_list.r",
     "varRefreshCmd": "cat(var_dic_list()) "
    }
   },
   "position": {
    "height": "248.841px",
    "left": "673.364px",
    "right": "20px",
    "top": "100px",
    "width": "606px"
   },
   "types_to_exclude": [
    "module",
    "function",
    "builtin_function_or_method",
    "instance",
    "_Feature"
   ],
   "window_display": false
  }
 },
 "nbformat": 4,
 "nbformat_minor": 5
}
