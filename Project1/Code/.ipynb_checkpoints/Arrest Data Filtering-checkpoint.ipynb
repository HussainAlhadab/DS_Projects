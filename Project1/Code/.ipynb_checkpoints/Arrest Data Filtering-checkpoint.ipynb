{
 "cells": [
  {
   "cell_type": "code",
   "execution_count": 1,
   "id": "0a17265a",
   "metadata": {},
   "outputs": [],
   "source": [
    "import pandas as pd"
   ]
  },
  {
   "cell_type": "code",
   "execution_count": 2,
   "id": "261faad1",
   "metadata": {},
   "outputs": [],
   "source": [
    "# from https://data.cityofnewyork.us/Public-Safety/NYPD-Arrests-Data-Historic-/8h9b-rp9u\n",
    "arrests_hist = pd.read_csv('https://data.cityofnewyork.us/api/views/8h9b-rp9u/rows.csv?accessType=DOWNLOAD')"
   ]
  },
  {
   "cell_type": "code",
   "execution_count": 3,
   "id": "e1cac79f",
   "metadata": {},
   "outputs": [
    {
     "name": "stdout",
     "output_type": "stream",
     "text": [
      "<class 'pandas.core.frame.DataFrame'>\n",
      "RangeIndex: 5153369 entries, 0 to 5153368\n",
      "Data columns (total 19 columns):\n",
      " #   Column             Dtype  \n",
      "---  ------             -----  \n",
      " 0   ARREST_KEY         int64  \n",
      " 1   ARREST_DATE        object \n",
      " 2   PD_CD              float64\n",
      " 3   PD_DESC            object \n",
      " 4   KY_CD              float64\n",
      " 5   OFNS_DESC          object \n",
      " 6   LAW_CODE           object \n",
      " 7   LAW_CAT_CD         object \n",
      " 8   ARREST_BORO        object \n",
      " 9   ARREST_PRECINCT    int64  \n",
      " 10  JURISDICTION_CODE  float64\n",
      " 11  AGE_GROUP          object \n",
      " 12  PERP_SEX           object \n",
      " 13  PERP_RACE          object \n",
      " 14  X_COORD_CD         float64\n",
      " 15  Y_COORD_CD         float64\n",
      " 16  Latitude           float64\n",
      " 17  Longitude          float64\n",
      " 18  Lon_Lat            object \n",
      "dtypes: float64(7), int64(2), object(10)\n",
      "memory usage: 747.0+ MB\n"
     ]
    }
   ],
   "source": [
    "arrests_hist.info()"
   ]
  },
  {
   "cell_type": "code",
   "execution_count": 4,
   "id": "69fc6459",
   "metadata": {},
   "outputs": [
    {
     "data": {
      "text/html": [
       "<div>\n",
       "<style scoped>\n",
       "    .dataframe tbody tr th:only-of-type {\n",
       "        vertical-align: middle;\n",
       "    }\n",
       "\n",
       "    .dataframe tbody tr th {\n",
       "        vertical-align: top;\n",
       "    }\n",
       "\n",
       "    .dataframe thead th {\n",
       "        text-align: right;\n",
       "    }\n",
       "</style>\n",
       "<table border=\"1\" class=\"dataframe\">\n",
       "  <thead>\n",
       "    <tr style=\"text-align: right;\">\n",
       "      <th></th>\n",
       "      <th>ARREST_KEY</th>\n",
       "      <th>ARREST_DATE</th>\n",
       "      <th>PD_CD</th>\n",
       "      <th>PD_DESC</th>\n",
       "      <th>KY_CD</th>\n",
       "      <th>OFNS_DESC</th>\n",
       "      <th>LAW_CODE</th>\n",
       "      <th>LAW_CAT_CD</th>\n",
       "      <th>ARREST_BORO</th>\n",
       "      <th>ARREST_PRECINCT</th>\n",
       "      <th>JURISDICTION_CODE</th>\n",
       "      <th>AGE_GROUP</th>\n",
       "      <th>PERP_SEX</th>\n",
       "      <th>PERP_RACE</th>\n",
       "      <th>X_COORD_CD</th>\n",
       "      <th>Y_COORD_CD</th>\n",
       "      <th>Latitude</th>\n",
       "      <th>Longitude</th>\n",
       "      <th>Lon_Lat</th>\n",
       "    </tr>\n",
       "  </thead>\n",
       "  <tbody>\n",
       "    <tr>\n",
       "      <th>0</th>\n",
       "      <td>32311380</td>\n",
       "      <td>06/18/2007</td>\n",
       "      <td>511.0</td>\n",
       "      <td>CONTROLLED SUBSTANCE, POSSESSION 7</td>\n",
       "      <td>235.0</td>\n",
       "      <td>DANGEROUS DRUGS</td>\n",
       "      <td>PL 2200300</td>\n",
       "      <td>M</td>\n",
       "      <td>Q</td>\n",
       "      <td>27</td>\n",
       "      <td>1.0</td>\n",
       "      <td>18-24</td>\n",
       "      <td>M</td>\n",
       "      <td>BLACK</td>\n",
       "      <td>NaN</td>\n",
       "      <td>NaN</td>\n",
       "      <td>NaN</td>\n",
       "      <td>NaN</td>\n",
       "      <td>NaN</td>\n",
       "    </tr>\n",
       "    <tr>\n",
       "      <th>1</th>\n",
       "      <td>192799737</td>\n",
       "      <td>01/26/2019</td>\n",
       "      <td>177.0</td>\n",
       "      <td>SEXUAL ABUSE</td>\n",
       "      <td>116.0</td>\n",
       "      <td>SEX CRIMES</td>\n",
       "      <td>PL 1306503</td>\n",
       "      <td>F</td>\n",
       "      <td>M</td>\n",
       "      <td>25</td>\n",
       "      <td>0.0</td>\n",
       "      <td>45-64</td>\n",
       "      <td>M</td>\n",
       "      <td>BLACK</td>\n",
       "      <td>1000555.0</td>\n",
       "      <td>230994.0</td>\n",
       "      <td>40.800694</td>\n",
       "      <td>-73.941109</td>\n",
       "      <td>POINT (-73.94110928599997 40.800694331000045)</td>\n",
       "    </tr>\n",
       "    <tr>\n",
       "      <th>2</th>\n",
       "      <td>193260691</td>\n",
       "      <td>02/06/2019</td>\n",
       "      <td>NaN</td>\n",
       "      <td>NaN</td>\n",
       "      <td>NaN</td>\n",
       "      <td>NaN</td>\n",
       "      <td>PL 2203400</td>\n",
       "      <td>F</td>\n",
       "      <td>M</td>\n",
       "      <td>14</td>\n",
       "      <td>0.0</td>\n",
       "      <td>25-44</td>\n",
       "      <td>M</td>\n",
       "      <td>UNKNOWN</td>\n",
       "      <td>986685.0</td>\n",
       "      <td>215375.0</td>\n",
       "      <td>40.757839</td>\n",
       "      <td>-73.991212</td>\n",
       "      <td>POINT (-73.99121211099998 40.75783900300007)</td>\n",
       "    </tr>\n",
       "    <tr>\n",
       "      <th>3</th>\n",
       "      <td>149117452</td>\n",
       "      <td>01/06/2016</td>\n",
       "      <td>153.0</td>\n",
       "      <td>RAPE 3</td>\n",
       "      <td>104.0</td>\n",
       "      <td>RAPE</td>\n",
       "      <td>PL 1302503</td>\n",
       "      <td>F</td>\n",
       "      <td>K</td>\n",
       "      <td>67</td>\n",
       "      <td>0.0</td>\n",
       "      <td>25-44</td>\n",
       "      <td>M</td>\n",
       "      <td>BLACK</td>\n",
       "      <td>998032.0</td>\n",
       "      <td>175598.0</td>\n",
       "      <td>40.648650</td>\n",
       "      <td>-73.950336</td>\n",
       "      <td>POINT (-73.95033556299995 40.648650085000035)</td>\n",
       "    </tr>\n",
       "    <tr>\n",
       "      <th>4</th>\n",
       "      <td>190049060</td>\n",
       "      <td>11/15/2018</td>\n",
       "      <td>157.0</td>\n",
       "      <td>RAPE 1</td>\n",
       "      <td>104.0</td>\n",
       "      <td>RAPE</td>\n",
       "      <td>PL 1303501</td>\n",
       "      <td>F</td>\n",
       "      <td>K</td>\n",
       "      <td>77</td>\n",
       "      <td>0.0</td>\n",
       "      <td>25-44</td>\n",
       "      <td>M</td>\n",
       "      <td>BLACK</td>\n",
       "      <td>1003606.0</td>\n",
       "      <td>185050.0</td>\n",
       "      <td>40.674583</td>\n",
       "      <td>-73.930222</td>\n",
       "      <td>POINT (-73.93022154099998 40.67458330800008)</td>\n",
       "    </tr>\n",
       "  </tbody>\n",
       "</table>\n",
       "</div>"
      ],
      "text/plain": [
       "   ARREST_KEY ARREST_DATE  PD_CD                             PD_DESC  KY_CD  \\\n",
       "0    32311380  06/18/2007  511.0  CONTROLLED SUBSTANCE, POSSESSION 7  235.0   \n",
       "1   192799737  01/26/2019  177.0                        SEXUAL ABUSE  116.0   \n",
       "2   193260691  02/06/2019    NaN                                 NaN    NaN   \n",
       "3   149117452  01/06/2016  153.0                              RAPE 3  104.0   \n",
       "4   190049060  11/15/2018  157.0                              RAPE 1  104.0   \n",
       "\n",
       "         OFNS_DESC    LAW_CODE LAW_CAT_CD ARREST_BORO  ARREST_PRECINCT  \\\n",
       "0  DANGEROUS DRUGS  PL 2200300          M           Q               27   \n",
       "1       SEX CRIMES  PL 1306503          F           M               25   \n",
       "2              NaN  PL 2203400          F           M               14   \n",
       "3             RAPE  PL 1302503          F           K               67   \n",
       "4             RAPE  PL 1303501          F           K               77   \n",
       "\n",
       "   JURISDICTION_CODE AGE_GROUP PERP_SEX PERP_RACE  X_COORD_CD  Y_COORD_CD  \\\n",
       "0                1.0     18-24        M     BLACK         NaN         NaN   \n",
       "1                0.0     45-64        M     BLACK   1000555.0    230994.0   \n",
       "2                0.0     25-44        M   UNKNOWN    986685.0    215375.0   \n",
       "3                0.0     25-44        M     BLACK    998032.0    175598.0   \n",
       "4                0.0     25-44        M     BLACK   1003606.0    185050.0   \n",
       "\n",
       "    Latitude  Longitude                                        Lon_Lat  \n",
       "0        NaN        NaN                                            NaN  \n",
       "1  40.800694 -73.941109  POINT (-73.94110928599997 40.800694331000045)  \n",
       "2  40.757839 -73.991212   POINT (-73.99121211099998 40.75783900300007)  \n",
       "3  40.648650 -73.950336  POINT (-73.95033556299995 40.648650085000035)  \n",
       "4  40.674583 -73.930222   POINT (-73.93022154099998 40.67458330800008)  "
      ]
     },
     "execution_count": 4,
     "metadata": {},
     "output_type": "execute_result"
    }
   ],
   "source": [
    "arrests_hist.head()"
   ]
  },
  {
   "cell_type": "code",
   "execution_count": 5,
   "id": "8a0114cc",
   "metadata": {},
   "outputs": [],
   "source": [
    "arrests = arrests_hist.set_index('ARREST_KEY')"
   ]
  },
  {
   "cell_type": "code",
   "execution_count": 6,
   "id": "6061efa9",
   "metadata": {},
   "outputs": [],
   "source": [
    "law_codes = arrests.groupby('LAW_CODE').groups.keys()"
   ]
  },
  {
   "cell_type": "code",
   "execution_count": 7,
   "id": "234e724c",
   "metadata": {},
   "outputs": [
    {
     "data": {
      "text/plain": [
       "5153369"
      ]
     },
     "execution_count": 7,
     "metadata": {},
     "output_type": "execute_result"
    }
   ],
   "source": [
    "len(arrests)"
   ]
  },
  {
   "cell_type": "code",
   "execution_count": 8,
   "id": "3b928085",
   "metadata": {},
   "outputs": [],
   "source": [
    "#Theft of services, transportation is Penal Law 165.15(3)\n",
    "fare_arrests =  arrests.groupby('LAW_CODE').get_group('PL 1651503')"
   ]
  },
  {
   "cell_type": "code",
   "execution_count": 9,
   "id": "d93c03f6",
   "metadata": {},
   "outputs": [
    {
     "name": "stdout",
     "output_type": "stream",
     "text": [
      "Index(['ARREST_DATE', 'PD_CD', 'PD_DESC', 'KY_CD', 'OFNS_DESC', 'LAW_CODE',\n",
      "       'LAW_CAT_CD', 'ARREST_BORO', 'ARREST_PRECINCT', 'JURISDICTION_CODE',\n",
      "       'AGE_GROUP', 'PERP_SEX', 'PERP_RACE', 'X_COORD_CD', 'Y_COORD_CD',\n",
      "       'Latitude', 'Longitude', 'Lon_Lat'],\n",
      "      dtype='object')\n"
     ]
    }
   ],
   "source": [
    "print(fare_arrests.columns)"
   ]
  },
  {
   "cell_type": "code",
   "execution_count": 10,
   "id": "19848a11",
   "metadata": {},
   "outputs": [],
   "source": [
    "#its hard to know if any of the other information can narrow down to just subway fare evasion\n",
    "# arrests, jurisdictions could be shared, etc.\n",
    "#writing to csv in order to go to next step, assigning to stations.\n",
    "fare_arrests.to_csv('Fare Evasion Arrests.csv')"
   ]
  },
  {
   "cell_type": "code",
   "execution_count": 11,
   "id": "a35b5f26",
   "metadata": {},
   "outputs": [
    {
     "data": {
      "text/plain": [
       "296473"
      ]
     },
     "execution_count": 11,
     "metadata": {},
     "output_type": "execute_result"
    }
   ],
   "source": [
    "len(fare_arrests)"
   ]
  },
  {
   "cell_type": "code",
   "execution_count": null,
   "id": "0f97752a",
   "metadata": {},
   "outputs": [],
   "source": []
  }
 ],
 "metadata": {
  "kernelspec": {
   "display_name": "Python 3 (ipykernel)",
   "language": "python",
   "name": "python3"
  },
  "language_info": {
   "codemirror_mode": {
    "name": "ipython",
    "version": 3
   },
   "file_extension": ".py",
   "mimetype": "text/x-python",
   "name": "python",
   "nbconvert_exporter": "python",
   "pygments_lexer": "ipython3",
   "version": "3.9.7"
  },
  "toc": {
   "base_numbering": 1,
   "nav_menu": {},
   "number_sections": true,
   "sideBar": true,
   "skip_h1_title": false,
   "title_cell": "Table of Contents",
   "title_sidebar": "Contents",
   "toc_cell": false,
   "toc_position": {},
   "toc_section_display": true,
   "toc_window_display": false
  },
  "varInspector": {
   "cols": {
    "lenName": 16,
    "lenType": 16,
    "lenVar": 40
   },
   "kernels_config": {
    "python": {
     "delete_cmd_postfix": "",
     "delete_cmd_prefix": "del ",
     "library": "var_list.py",
     "varRefreshCmd": "print(var_dic_list())"
    },
    "r": {
     "delete_cmd_postfix": ") ",
     "delete_cmd_prefix": "rm(",
     "library": "var_list.r",
     "varRefreshCmd": "cat(var_dic_list()) "
    }
   },
   "types_to_exclude": [
    "module",
    "function",
    "builtin_function_or_method",
    "instance",
    "_Feature"
   ],
   "window_display": false
  }
 },
 "nbformat": 4,
 "nbformat_minor": 5
}
